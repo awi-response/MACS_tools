{
 "cells": [
  {
   "cell_type": "markdown",
   "metadata": {},
   "source": [
    "# EXIF tag writer "
   ]
  },
  {
   "cell_type": "code",
   "execution_count": 79,
   "metadata": {},
   "outputs": [],
   "source": [
    "import os\n",
    "from pathlib import Path\n",
    "from joblib import delayed, Parallel\n",
    "import glob\n",
    "import tqdm\n",
    "import numpy as np"
   ]
  },
  {
   "cell_type": "code",
   "execution_count": null,
   "metadata": {},
   "outputs": [],
   "source": [
    "%config Completer.use_jedi = False"
   ]
  },
  {
   "cell_type": "code",
   "execution_count": null,
   "metadata": {},
   "outputs": [],
   "source": [
    "outdir = Path(r'data\\right\\33576_Right')\n",
    "exifpath = Path(r'exiftool\\exiftool.exe')\n",
    "tag = 'MACS_RGB_Right_33576'"
   ]
  },
  {
   "cell_type": "markdown",
   "metadata": {},
   "source": [
    "#### no parallelization necessary "
   ]
  },
  {
   "cell_type": "code",
   "execution_count": null,
   "metadata": {},
   "outputs": [],
   "source": [
    "def write_exif(outdir, tag, exifpath):\n",
    "    s = f'{exifpath} -overwrite_original -Model=\"{tag}\" {outdir}'\n",
    "    print(s)\n",
    "    os.system(s)"
   ]
  },
  {
   "cell_type": "code",
   "execution_count": null,
   "metadata": {},
   "outputs": [],
   "source": [
    "%time write_exif(outdir, tag, exifpath)"
   ]
  },
  {
   "cell_type": "code",
   "execution_count": null,
   "metadata": {},
   "outputs": [],
   "source": [
    "exifpath.exists()"
   ]
  },
  {
   "cell_type": "markdown",
   "metadata": {},
   "source": [
    "### Rasterio read image stats\n",
    "* quick with parallel reading"
   ]
  },
  {
   "cell_type": "code",
   "execution_count": null,
   "metadata": {},
   "outputs": [],
   "source": [
    "import rasterio"
   ]
  },
  {
   "cell_type": "code",
   "execution_count": null,
   "metadata": {},
   "outputs": [],
   "source": [
    "flist = list(outdir.glob('*.tif'))"
   ]
  },
  {
   "cell_type": "code",
   "execution_count": 74,
   "metadata": {},
   "outputs": [],
   "source": [
    "def get_stats(filepath):\n",
    "    with rasterio.open(filepath) as src:\n",
    "        d = src.read()\n",
    "        return d.min(), d.mean(), d.max()"
   ]
  },
  {
   "cell_type": "code",
   "execution_count": 76,
   "metadata": {},
   "outputs": [
    {
     "name": "stdout",
     "output_type": "stream",
     "text": [
      "Wall time: 4.76 s\n"
     ]
    }
   ],
   "source": [
    "%time stats = Parallel(n_jobs=-1)(delayed(get_stats)(f) for f in flist)"
   ]
  },
  {
   "cell_type": "markdown",
   "metadata": {},
   "source": [
    "## Edit mipps "
   ]
  },
  {
   "cell_type": "code",
   "execution_count": 81,
   "metadata": {},
   "outputs": [],
   "source": [
    "from xml.dom.minidom import parse, parseString"
   ]
  },
  {
   "cell_type": "code",
   "execution_count": 121,
   "metadata": {},
   "outputs": [],
   "source": [
    "import xml.dom.minidom as minidom"
   ]
  },
  {
   "cell_type": "code",
   "execution_count": 122,
   "metadata": {},
   "outputs": [
    {
     "data": {
      "text/plain": [
       "xml.dom.minidom.Node"
      ]
     },
     "execution_count": 122,
     "metadata": {},
     "output_type": "execute_result"
    }
   ],
   "source": [
    "minidom.Node.toxml()"
   ]
  },
  {
   "cell_type": "code",
   "execution_count": 85,
   "metadata": {},
   "outputs": [],
   "source": [
    "mippsfile = Path('mipps_scripts') / '33576_all_taps_linearstretch.mipps'"
   ]
  },
  {
   "cell_type": "code",
   "execution_count": null,
   "metadata": {},
   "outputs": [],
   "source": []
  },
  {
   "cell_type": "code",
   "execution_count": 113,
   "metadata": {},
   "outputs": [
    {
     "ename": "SyntaxError",
     "evalue": "EOL while scanning string literal (<ipython-input-113-adbc6dbe110d>, line 1)",
     "output_type": "error",
     "traceback": [
      "\u001b[1;36m  File \u001b[1;32m\"<ipython-input-113-adbc6dbe110d>\"\u001b[1;36m, line \u001b[1;32m1\u001b[0m\n\u001b[1;33m    parseString(\"\u001b[0m\n\u001b[1;37m                 ^\u001b[0m\n\u001b[1;31mSyntaxError\u001b[0m\u001b[1;31m:\u001b[0m EOL while scanning string literal\n"
     ]
    }
   ],
   "source": [
    "parseString(\"\n",
    "<QVariantMap>\n",
    "    <QVariantMap name=\"Filter\">\n",
    "        <bool name=\"enabled\" value=\"true\"/>\n",
    "        <double name=\"max\" value=\"30\"/>\n",
    "        <double name=\"min\" value=\"0\"/>\n",
    "        <QString name=\"name\" value=\"Linear-Stretch\"/>\n",
    "    </QVariantMap>\n",
    "</QVariantMap>\n",
    "\")"
   ]
  },
  {
   "cell_type": "code",
   "execution_count": 95,
   "metadata": {},
   "outputs": [],
   "source": [
    "dom = parse(open(mippsfile)).documentElement"
   ]
  },
  {
   "cell_type": "code",
   "execution_count": 106,
   "metadata": {},
   "outputs": [],
   "source": [
    "filters = dom.childNodes[1].childNodes[1].childNodes"
   ]
  },
  {
   "cell_type": "code",
   "execution_count": 108,
   "metadata": {},
   "outputs": [],
   "source": [
    "f1 = filters[1]"
   ]
  },
  {
   "cell_type": "code",
   "execution_count": 120,
   "metadata": {},
   "outputs": [
    {
     "data": {
      "text/plain": [
       "dict_keys([])"
      ]
     },
     "execution_count": 120,
     "metadata": {},
     "output_type": "execute_result"
    }
   ],
   "source": []
  },
  {
   "cell_type": "markdown",
   "metadata": {},
   "source": [
    "#### Exiftool parallelization tests "
   ]
  },
  {
   "cell_type": "code",
   "execution_count": null,
   "metadata": {},
   "outputs": [],
   "source": [
    "def write_exif_parallel(outdir, tag, exifpath):\n",
    "    flist = outdir.glob('*.tif')\n",
    "    for f in flist:\n",
    "        s = f'{exifpath} -overwrite_original -Model=\"{tag}\" {outdir}'\n",
    "        print(s)\n",
    "        os.system(s)"
   ]
  },
  {
   "cell_type": "code",
   "execution_count": null,
   "metadata": {},
   "outputs": [],
   "source": [
    "def write_exiffile(outfile, tag, exifpath):\n",
    "    s = f'{exifpath} -overwrite_original -Model=\"{tag}\" {outfile}'\n",
    "    os.system(s)\n",
    "\n",
    "def write_exif_parallel2(outdir, tag, exifpath):\n",
    "    flist = outdir.glob('*.tif')\n",
    "    Parallel()(delayed(write_exiffile)(f, tag, exifpath) for f in tqdm.tqdm_notebook(flist))"
   ]
  },
  {
   "cell_type": "code",
   "execution_count": null,
   "metadata": {},
   "outputs": [],
   "source": [
    "%time write_exif_parallel(outdir, tag, exifpath)"
   ]
  },
  {
   "cell_type": "code",
   "execution_count": null,
   "metadata": {},
   "outputs": [],
   "source": [
    "%time write_exif_parallel2(outdir, tag, exifpath)"
   ]
  }
 ],
 "metadata": {
  "kernelspec": {
   "display_name": "Python 3",
   "language": "python",
   "name": "python3"
  },
  "language_info": {
   "codemirror_mode": {
    "name": "ipython",
    "version": 3
   },
   "file_extension": ".py",
   "mimetype": "text/x-python",
   "name": "python",
   "nbconvert_exporter": "python",
   "pygments_lexer": "ipython3",
   "version": "3.7.4"
  }
 },
 "nbformat": 4,
 "nbformat_minor": 2
}
