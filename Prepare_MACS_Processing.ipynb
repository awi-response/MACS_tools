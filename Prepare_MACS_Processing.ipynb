{
 "cells": [
  {
   "cell_type": "markdown",
   "metadata": {},
   "source": [
    "## Script to move raw MACS files based on extracted footprints files \n",
    "**author:** Ingmar Nitze, Tabea Rettelbach, Simon Schäffler\n",
    "\n",
    "**contact:** ingmar.nitze@awi.de\n",
    "\n",
    "**version date:** 2022-02-08\n",
    "\n",
    "**repository and other tools** https://github.com/awi-response/MACS_tools"
   ]
  },
  {
   "cell_type": "markdown",
   "metadata": {},
   "source": [
    "### Imports "
   ]
  },
  {
   "cell_type": "code",
   "execution_count": null,
   "metadata": {},
   "outputs": [],
   "source": [
    "import geopandas as gpd\n",
    "import shutil\n",
    "import os\n",
    "import glob\n",
    "import pandas as pd\n",
    "from IPython.display import clear_output\n",
    "import sys\n",
    "import numpy as np\n",
    "import tqdm\n",
    "import zipfile\n",
    "from pathlib import Path\n",
    "from joblib import delayed, Parallel, wrap_non_picklable_objects\n",
    "import numpy as np\n",
    "from pathlib import Path\n",
    "from processing_utils import *"
   ]
  },
  {
   "cell_type": "code",
   "execution_count": null,
   "metadata": {},
   "outputs": [],
   "source": [
    "pwd = Path(os.getcwd())"
   ]
  },
  {
   "cell_type": "markdown",
   "metadata": {},
   "source": [
    "### Functions "
   ]
  },
  {
   "cell_type": "markdown",
   "metadata": {},
   "source": [
    "### Settings \n",
    "* prefer full/absolute paths\n",
    "* Create processing template automatically"
   ]
  },
  {
   "cell_type": "markdown",
   "metadata": {},
   "source": [
    "#### Variable Settings "
   ]
  },
  {
   "cell_type": "code",
   "execution_count": null,
   "metadata": {},
   "outputs": [],
   "source": [
    "# Set project directory here, where you want to process your data\n",
    "PROJECT_DIR = r''\n",
    "#PROJECT_DIR = r'D:\\pix4d_Processing\\ThawTrendAir_2019\\Image_Test_non_cropped' # SET Project output\n",
    "\n",
    "# Set raw data dir here for the speicific image acquisition project\n",
    "path_infiles = r''\n",
    "#path_infiles = r'N:\\response\\Restricted_Airborne\\MACs\\Alaska\\ThawTrend-Air_2019\\raw_data\\20190727-235440_15L_Ketik_fire_flight_plan_v3'\n",
    "\n",
    "# determine which sensors to include in processing (possible options: 'left', 'right', 'nir')\n",
    "sensors = ['left', 'right', 'nir']\n",
    "\n",
    "# Set CROP CORNER if \n",
    "CROP_CORNER = 0 # SET to 1 if you want to crop corners (set to NoData)\n",
    "DISK_SIZE = 5200 # Cropping diameter, the larger the fewer no data"
   ]
  },
  {
   "cell_type": "markdown",
   "metadata": {},
   "source": [
    "#### Fixed Settings\n",
    "* These Settings can be kept"
   ]
  },
  {
   "cell_type": "code",
   "execution_count": null,
   "metadata": {},
   "outputs": [],
   "source": [
    "CODE_DIR = pwd\n",
    "MIPPS_DIR = r'C:\\Program Files\\DLR MACS-Box\\bin'\n",
    "MIPPS_BIN = r'..\\tools\\MACS\\mipps.exe'\n",
    "EXIF_PATH = Path(CODE_DIR / Path(r'exiftool\\exiftool.exe'))\n",
    "mipps_script_dir = Path('mipps_scripts')"
   ]
  },
  {
   "cell_type": "code",
   "execution_count": null,
   "metadata": {},
   "outputs": [],
   "source": [
    "mipps_script_nir = '33552_all_taps_2018-09-26_12-58-15_modelbased.mipps'\n",
    "mipps_script_right = '33576_all_taps_2018-09-26_13-13-43_modelbased.mipps'\n",
    "mipps_script_left = '33577_all_taps_2018-09-26_13-21-24_modelbased.mipps'\n",
    "\n",
    "#mipps_script_nir = r'mipps_scripts\\33552_all_taps_2018-09-26_12-58-15_modelbased_x4.mipps'\n",
    "#mipps_script_right = r'mipps_scripts\\33576_all_taps_2018-09-26_13-13-43_modelbased_x4.mipps'\n",
    "#mipps_script_left = r'mipps_scripts\\33577_all_taps_2018-09-26_13-21-24_modelbased_x4.mipps'\n",
    "\n",
    "mipps_script_nir = pwd / mipps_script_dir / mipps_script_nir\n",
    "mipps_script_right = pwd / mipps_script_dir / mipps_script_right\n",
    "mipps_script_left = pwd / mipps_script_dir / mipps_script_left"
   ]
  },
  {
   "cell_type": "code",
   "execution_count": null,
   "metadata": {},
   "outputs": [],
   "source": [
    "DATA_DIR = Path(PROJECT_DIR) / '01_rawdata' / 'tif'\n",
    "OUTDIR = {'right': DATA_DIR / Path('33576_Right'),\n",
    "          'left':DATA_DIR / Path('33577_Left'),\n",
    "          'nir':DATA_DIR / Path('33552_NIR')}\n",
    "tag = {'right':'MACS_RGB_Right_33576',\n",
    "       'left':'MACS_RGB_Left_33577',\n",
    "       'nir':'MACS_NIR_33552'}"
   ]
  },
  {
   "cell_type": "code",
   "execution_count": null,
   "metadata": {},
   "outputs": [],
   "source": [
    "# Path of filtered footprints file (.shp file)\n",
    "path_footprints = os.path.join(PROJECT_DIR, '02_studysites','footprints.shp')\n",
    "outdir = os.path.join(PROJECT_DIR, '01_rawdata','tif')"
   ]
  },
  {
   "cell_type": "markdown",
   "metadata": {},
   "source": [
    "#### Prepare processing dir \n",
    "* check if exists"
   ]
  },
  {
   "cell_type": "code",
   "execution_count": null,
   "metadata": {},
   "outputs": [],
   "source": [
    "zippath = os.path.join(CODE_DIR, 'processing_folder_structure_template.zip')\n",
    "nav_script_path = os.path.join(CODE_DIR, 'pix4dnav.py')"
   ]
  },
  {
   "cell_type": "code",
   "execution_count": null,
   "metadata": {},
   "outputs": [],
   "source": [
    "with zipfile.ZipFile(zippath, 'r') as zip_ref:\n",
    "    zip_ref.extractall(PROJECT_DIR)\n",
    "shutil.copy(nav_script_path, outdir)"
   ]
  },
  {
   "cell_type": "markdown",
   "metadata": {},
   "source": [
    "### Manual Selection of footprints "
   ]
  },
  {
   "cell_type": "markdown",
   "metadata": {},
   "source": [
    "Now select footprints and export selection as ***footprints.shp*** to ***02_footprints*** in your working directory"
   ]
  },
  {
   "cell_type": "markdown",
   "metadata": {},
   "source": [
    "#### Load filtered footprints file "
   ]
  },
  {
   "cell_type": "code",
   "execution_count": null,
   "metadata": {},
   "outputs": [],
   "source": [
    "#df_final = prepare_df_for_mipps(path_footprints, path_infiles)\n",
    "df_final = prepare_df_for_mipps(path_footprints, path_infiles)"
   ]
  },
  {
   "cell_type": "markdown",
   "metadata": {},
   "source": [
    "#### Workaround to deal with spaces in path\" "
   ]
  },
  {
   "cell_type": "code",
   "execution_count": null,
   "metadata": {},
   "outputs": [],
   "source": [
    "df_final['full_path'] = df_final.apply(lambda x: f'\"{x.full_path}\"', axis=1)"
   ]
  },
  {
   "cell_type": "code",
   "execution_count": null,
   "metadata": {},
   "outputs": [],
   "source": [
    "print(\"Total number of images:\", len(df_final))\n",
    "print(\"NIR images:\", (df_final['Looking'] == 'center').sum())\n",
    "print(\"RGB right images:\", (df_final['Looking'] == 'right').sum())\n",
    "print(\"RGB left images:\", (df_final['Looking'] == 'left').sum())"
   ]
  },
  {
   "cell_type": "markdown",
   "metadata": {},
   "source": [
    "#### Run Process "
   ]
  },
  {
   "cell_type": "code",
   "execution_count": null,
   "metadata": {},
   "outputs": [],
   "source": [
    "os.chdir(MIPPS_DIR)"
   ]
  },
  {
   "cell_type": "code",
   "execution_count": null,
   "metadata": {},
   "outputs": [],
   "source": [
    "max_roll = 3 # Select maximum roll angle to avoid image issues - SET in main settings part?\n",
    "chunksize = 20 # this is a mipps-script thing"
   ]
  },
  {
   "cell_type": "code",
   "execution_count": null,
   "metadata": {},
   "outputs": [],
   "source": [
    "# this is relevant for NIR only\n",
    "if 'nir' in sensors:\n",
    "    looking = 'center'\n",
    "    q = (np.abs(df_final['Roll[deg]']) < max_roll) & (df_final['Looking'] == looking)\n",
    "    df_nir = df_final[q]\n",
    "    print(len(df_nir))\n",
    "    for df in tqdm.tqdm_notebook(np.array_split(df_nir, len(df_nir) // chunksize)):\n",
    "        outlist = ' '.join(df['full_path'].values[:])\n",
    "        s = f'{MIPPS_BIN} -c={mipps_script_nir} -o={outdir} -j=4 {outlist}'\n",
    "        os.system(s)\n",
    "        #print(s)"
   ]
  },
  {
   "cell_type": "code",
   "execution_count": null,
   "metadata": {},
   "outputs": [],
   "source": [
    "# this is RGB\n",
    "if 'right' in sensors:\n",
    "    looking = 'right'\n",
    "    q = (np.abs(df_final['Roll[deg]']) < max_roll) & (df_final['Looking'] == looking)\n",
    "    df_right = df_final[q]\n",
    "    for df in tqdm.tqdm_notebook(np.array_split(df_right, len(df_right) // chunksize)):\n",
    "        outlist = ' '.join(df['full_path'].values[:])\n",
    "        s = f'{MIPPS_BIN} -c={mipps_script_right} -o={outdir} -j=4 {outlist}'\n",
    "        os.system(s)"
   ]
  },
  {
   "cell_type": "code",
   "execution_count": null,
   "metadata": {},
   "outputs": [],
   "source": [
    "if 'left' in sensors:\n",
    "    looking = 'left'\n",
    "    q = (np.abs(df_final['Roll[deg]']) < max_roll) & (df_final['Looking'] == looking)\n",
    "    df_left = df_final[q]\n",
    "    for df in tqdm.tqdm_notebook(np.array_split(df_left, len(df_left) // chunksize)):\n",
    "        outlist = ' '.join(df['full_path'].values[:])\n",
    "        s = f'{MIPPS_BIN} -c={mipps_script_left} -o={outdir} -j=4 {outlist}'\n",
    "        os.system(s)"
   ]
  },
  {
   "cell_type": "markdown",
   "metadata": {},
   "source": [
    "#### Crop Corners of images "
   ]
  },
  {
   "cell_type": "markdown",
   "metadata": {},
   "source": [
    "* joblib will crash\n",
    "* in other notebook it did not crash"
   ]
  },
  {
   "cell_type": "code",
   "execution_count": null,
   "metadata": {},
   "outputs": [],
   "source": [
    "if CROP_CORNER:\n",
    "    #mask = make_mask((3232, 4864), disksize=DISK_SIZE)\n",
    "    for sensor in sensors[:]:\n",
    "        mask = make_mask((3232, 4864), disksize=DISK_SIZE)\n",
    "        images = list(OUTDIR[sensor].glob('*'))\n",
    "        if sensor != 'nir':\n",
    "            mask = np.r_[[mask]*3]\n",
    "        %time _ = [mask_and_tag(image, mask, tag=None) for image in tqdm.tqdm_notebook(images)]\n",
    "        #%time _ = Parallel(n_jobs=4)(delayed(mask_and_tag)(image, mask, tag=None) for image in tqdm.tqdm_notebook(images))"
   ]
  },
  {
   "cell_type": "markdown",
   "metadata": {},
   "source": [
    "#### Write exif information into all images "
   ]
  },
  {
   "cell_type": "code",
   "execution_count": null,
   "metadata": {},
   "outputs": [],
   "source": [
    "for sensor in tqdm.tqdm_notebook(sensors):\n",
    "    print(sensor)\n",
    "    %time write_exif(OUTDIR[sensor], tag[sensor], EXIF_PATH)"
   ]
  },
  {
   "cell_type": "markdown",
   "metadata": {},
   "source": [
    "#### Nav"
   ]
  },
  {
   "cell_type": "code",
   "execution_count": null,
   "metadata": {},
   "outputs": [],
   "source": [
    "navfile = list(Path(path_infiles).glob('*nav.txt'))[0]"
   ]
  },
  {
   "cell_type": "code",
   "execution_count": null,
   "metadata": {},
   "outputs": [],
   "source": [
    "shutil.copy(navfile, OUTDIR['nir'].parent / 'nav.txt')"
   ]
  },
  {
   "cell_type": "code",
   "execution_count": null,
   "metadata": {},
   "outputs": [],
   "source": [
    "os.chdir(OUTDIR['nir'].parent)\n",
    "os.system('python pix4dnav.py')"
   ]
  },
  {
   "cell_type": "code",
   "execution_count": null,
   "metadata": {},
   "outputs": [],
   "source": []
  }
 ],
 "metadata": {
  "kernelspec": {
   "display_name": "Python 3 (ipykernel)",
   "language": "python",
   "name": "python3"
  },
  "language_info": {
   "codemirror_mode": {
    "name": "ipython",
    "version": 3
   },
   "file_extension": ".py",
   "mimetype": "text/x-python",
   "name": "python",
   "nbconvert_exporter": "python",
   "pygments_lexer": "ipython3",
   "version": "3.9.7"
  }
 },
 "nbformat": 4,
 "nbformat_minor": 2
}
