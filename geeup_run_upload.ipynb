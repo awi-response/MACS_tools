{
 "cells": [
  {
   "cell_type": "code",
   "execution_count": null,
   "metadata": {},
   "outputs": [],
   "source": [
    "import pandas as pd\n",
    "import datetime\n",
    "import os"
   ]
  },
  {
   "cell_type": "markdown",
   "metadata": {},
   "source": [
    "### Functions "
   ]
  },
  {
   "cell_type": "code",
   "execution_count": null,
   "metadata": {},
   "outputs": [],
   "source": [
    "def timestamp_to_valid(timestamp):\n",
    "    dtx = datetime.datetime.fromisoformat(timestamp)\n",
    "    return int(dtx.replace(tzinfo=datetime.timezone.utc).timestamp())"
   ]
  },
  {
   "cell_type": "code",
   "execution_count": null,
   "metadata": {},
   "outputs": [],
   "source": [
    "def update_metadata_file(metadata_file, metadata_dict):\n",
    "    df = pd.read_csv(metadata_file)\n",
    "    for key, value in metadata_dict.items():\n",
    "        df[key] = value\n",
    "    df.to_csv(metadata_file, index=False)"
   ]
  },
  {
   "cell_type": "markdown",
   "metadata": {},
   "source": [
    "#### Additional Metadata "
   ]
  },
  {
   "cell_type": "code",
   "execution_count": null,
   "metadata": {},
   "outputs": [],
   "source": [
    "meta_dsm_meade = {\n",
    "    'system:time_start' : timestamp_to_valid('2019-07-29 22:57:08'), # project timestamp in 'YYYY-MM-DD hh:mm:ss' format\n",
    "    'sensor' : 'DLR MACS',\n",
    "    'sensor_data' : 'RGB', # RGB, NIR, DSM\n",
    "    'mission' : 'ThawTrendAir 2019',\n",
    "    'mission_subproject' : '20190729-225708_6_Meade_river_fire_flight_plan_v4', # insert mission/project name here\n",
    "    'platform' : 'Aerial AWI POLAR-6',\n",
    "    'processing_software' : 'Pix4D',\n",
    "    'processing_author' : 'Ingmar Nitze',\n",
    "    'processing_author_contact' : 'ingmar.nitze@awi.de',\n",
    "    'georeferencing' : 'internal GPS',\n",
    "    'additional_GCP' : 'yes', # yes if additional GCP were used\n",
    "}"
   ]
  },
  {
   "cell_type": "markdown",
   "metadata": {},
   "source": [
    "### Settings "
   ]
  },
  {
   "cell_type": "markdown",
   "metadata": {},
   "source": [
    "#### Process Settings "
   ]
  },
  {
   "cell_type": "code",
   "execution_count": null,
   "metadata": {},
   "outputs": [],
   "source": [
    "# absolute path to image files\n",
    "INPUT_DIR = r''\n",
    "\n",
    "# name of target GEE ImageCollection (users/ingmarnitze/<NAME>)\n",
    "EE_IMAGECOLLECTION = r''\n",
    "\n",
    "# path to metadatafile from geeup\n",
    "METADATA_FILE = r''\n",
    "\n",
    "# GEE username\n",
    "USERNAME = r''\n",
    "\n",
    "# NODATA value\n",
    "NODATA = 0"
   ]
  },
  {
   "cell_type": "markdown",
   "metadata": {},
   "source": [
    "### Create Metadata file "
   ]
  },
  {
   "cell_type": "code",
   "execution_count": null,
   "metadata": {},
   "outputs": [],
   "source": [
    "run_string_meta = f'geeup getmeta --input {INPUT_DIR} --metadata {METADATA_FILE}'"
   ]
  },
  {
   "cell_type": "code",
   "execution_count": null,
   "metadata": {},
   "outputs": [],
   "source": [
    "os.system(run_string_meta)"
   ]
  },
  {
   "cell_type": "markdown",
   "metadata": {},
   "source": [
    "### Update metadata File "
   ]
  },
  {
   "cell_type": "code",
   "execution_count": null,
   "metadata": {},
   "outputs": [],
   "source": [
    "update_metadata_file(METADATA_FILE, meta)"
   ]
  },
  {
   "cell_type": "markdown",
   "metadata": {},
   "source": [
    "### Run Upload "
   ]
  },
  {
   "cell_type": "code",
   "execution_count": null,
   "metadata": {},
   "outputs": [],
   "source": [
    "run_string = f'geeup upload --source {INPUT_DIR} --dest {EE_IMAGECOLLECTION} --metadata {METADATA_FILE} --user {USERNAME} --nodata {NODATA}'"
   ]
  },
  {
   "cell_type": "markdown",
   "metadata": {},
   "source": [
    "Check command window for Password"
   ]
  },
  {
   "cell_type": "code",
   "execution_count": null,
   "metadata": {},
   "outputs": [],
   "source": [
    "os.system(run_string)"
   ]
  }
 ],
 "metadata": {
  "kernelspec": {
   "display_name": "Python [conda env:gee] *",
   "language": "python",
   "name": "conda-env-gee-py"
  },
  "language_info": {
   "codemirror_mode": {
    "name": "ipython",
    "version": 3
   },
   "file_extension": ".py",
   "mimetype": "text/x-python",
   "name": "python",
   "nbconvert_exporter": "python",
   "pygments_lexer": "ipython3",
   "version": "3.7.6"
  }
 },
 "nbformat": 4,
 "nbformat_minor": 4
}
