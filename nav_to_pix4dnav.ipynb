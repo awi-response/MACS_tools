{
 "cells": [
  {
   "cell_type": "markdown",
   "metadata": {},
   "source": [
    "### Script to convert geolocation into correct format"
   ]
  },
  {
   "cell_type": "code",
   "execution_count": 1,
   "metadata": {},
   "outputs": [],
   "source": [
    "import geopandas as gpd\n",
    "import pandas as pd\n",
    "import os"
   ]
  },
  {
   "cell_type": "code",
   "execution_count": 2,
   "metadata": {},
   "outputs": [],
   "source": [
    "%config Completer.use_jedi = False"
   ]
  },
  {
   "cell_type": "markdown",
   "metadata": {},
   "source": [
    "### Settings"
   ]
  },
  {
   "cell_type": "code",
   "execution_count": 21,
   "metadata": {},
   "outputs": [],
   "source": [
    "INFILE = 'nav.txt'\n",
    "outfile = 'geo_pix4d.txt'\n",
    "NEW_CRS = 'EPSG:4326'\n",
    "H_ACC = 1\n",
    "V_ACC = 1"
   ]
  },
  {
   "cell_type": "markdown",
   "metadata": {},
   "source": [
    "#### Load images "
   ]
  },
  {
   "cell_type": "code",
   "execution_count": 22,
   "metadata": {},
   "outputs": [],
   "source": [
    "df = pd.read_csv(INFILE)"
   ]
  },
  {
   "cell_type": "markdown",
   "metadata": {},
   "source": [
    "#### Change image suffixes "
   ]
  },
  {
   "cell_type": "code",
   "execution_count": 23,
   "metadata": {},
   "outputs": [],
   "source": [
    "images = df.imagename.str.replace('.macs', '.tif')"
   ]
  },
  {
   "cell_type": "markdown",
   "metadata": {},
   "source": [
    "#### Load coordinates to geom an reproject to selected crs "
   ]
  },
  {
   "cell_type": "code",
   "execution_count": 24,
   "metadata": {},
   "outputs": [],
   "source": [
    "series = gpd.GeoSeries(gpd.points_from_xy(df['longitude [decimal degrees]'], df['latitude [decimal degrees]']), crs='EPSG:4326')\n",
    "series_new = series.to_crs(crs=NEW_CRS)"
   ]
  },
  {
   "cell_type": "markdown",
   "metadata": {},
   "source": [
    "#### Fill Table "
   ]
  },
  {
   "cell_type": "code",
   "execution_count": 25,
   "metadata": {},
   "outputs": [],
   "source": [
    "df['imagename_tif'] = images\n",
    "df['x'] = series_new.geometry.x\n",
    "df['y'] = series_new.geometry.y\n",
    "df['horizontal_accuracy'] = H_ACC\n",
    "df['vertical_accuracy'] = V_ACC"
   ]
  },
  {
   "cell_type": "markdown",
   "metadata": {},
   "source": [
    "#### Create final structure"
   ]
  },
  {
   "cell_type": "code",
   "execution_count": 43,
   "metadata": {},
   "outputs": [],
   "source": [
    "df_new = df[['imagename_tif', 'y', 'x', 'altitude [meter]', 'omega [degrees]',\n",
    "       ' phi [degrees]', ' kappa [degrees]', 'horizontal_accuracy', 'vertical_accuracy']]"
   ]
  },
  {
   "cell_type": "code",
   "execution_count": 44,
   "metadata": {},
   "outputs": [
    {
     "data": {
      "text/html": [
       "<div>\n",
       "<style scoped>\n",
       "    .dataframe tbody tr th:only-of-type {\n",
       "        vertical-align: middle;\n",
       "    }\n",
       "\n",
       "    .dataframe tbody tr th {\n",
       "        vertical-align: top;\n",
       "    }\n",
       "\n",
       "    .dataframe thead th {\n",
       "        text-align: right;\n",
       "    }\n",
       "</style>\n",
       "<table border=\"1\" class=\"dataframe\">\n",
       "  <thead>\n",
       "    <tr style=\"text-align: right;\">\n",
       "      <th></th>\n",
       "      <th>imagename_tif</th>\n",
       "      <th>y</th>\n",
       "      <th>x</th>\n",
       "      <th>altitude [meter]</th>\n",
       "      <th>omega [degrees]</th>\n",
       "      <th>phi [degrees]</th>\n",
       "      <th>kappa [degrees]</th>\n",
       "      <th>horizontal_accuracy</th>\n",
       "      <th>vertical_accuracy</th>\n",
       "    </tr>\n",
       "  </thead>\n",
       "  <tbody>\n",
       "    <tr>\n",
       "      <th>0</th>\n",
       "      <td>03633_014335777_750.tif</td>\n",
       "      <td>69.395074</td>\n",
       "      <td>-150.935698</td>\n",
       "      <td>840.876289</td>\n",
       "      <td>5.446749</td>\n",
       "      <td>6.346476</td>\n",
       "      <td>117.484892</td>\n",
       "      <td>1</td>\n",
       "      <td>1</td>\n",
       "    </tr>\n",
       "    <tr>\n",
       "      <th>1</th>\n",
       "      <td>03630_014334577_750.tif</td>\n",
       "      <td>69.395442</td>\n",
       "      <td>-150.933956</td>\n",
       "      <td>840.902523</td>\n",
       "      <td>7.536056</td>\n",
       "      <td>7.176561</td>\n",
       "      <td>115.975265</td>\n",
       "      <td>1</td>\n",
       "      <td>1</td>\n",
       "    </tr>\n",
       "    <tr>\n",
       "      <th>2</th>\n",
       "      <td>07477_020913377_750.tif</td>\n",
       "      <td>69.400369</td>\n",
       "      <td>-150.944583</td>\n",
       "      <td>830.285500</td>\n",
       "      <td>-5.330775</td>\n",
       "      <td>-7.154992</td>\n",
       "      <td>-59.343463</td>\n",
       "      <td>1</td>\n",
       "      <td>1</td>\n",
       "    </tr>\n",
       "    <tr>\n",
       "      <th>3</th>\n",
       "      <td>03634_014336177_750.tif</td>\n",
       "      <td>69.394952</td>\n",
       "      <td>-150.936281</td>\n",
       "      <td>841.052131</td>\n",
       "      <td>6.597935</td>\n",
       "      <td>7.211210</td>\n",
       "      <td>118.312835</td>\n",
       "      <td>1</td>\n",
       "      <td>1</td>\n",
       "    </tr>\n",
       "    <tr>\n",
       "      <th>4</th>\n",
       "      <td>01141_012658977_750.tif</td>\n",
       "      <td>69.397809</td>\n",
       "      <td>-150.931637</td>\n",
       "      <td>808.185511</td>\n",
       "      <td>6.619568</td>\n",
       "      <td>8.595975</td>\n",
       "      <td>116.665019</td>\n",
       "      <td>1</td>\n",
       "      <td>1</td>\n",
       "    </tr>\n",
       "    <tr>\n",
       "      <th>...</th>\n",
       "      <td>...</td>\n",
       "      <td>...</td>\n",
       "      <td>...</td>\n",
       "      <td>...</td>\n",
       "      <td>...</td>\n",
       "      <td>...</td>\n",
       "      <td>...</td>\n",
       "      <td>...</td>\n",
       "      <td>...</td>\n",
       "    </tr>\n",
       "    <tr>\n",
       "      <th>243</th>\n",
       "      <td>04963_015227777_750.tif</td>\n",
       "      <td>69.399077</td>\n",
       "      <td>-150.942377</td>\n",
       "      <td>816.337293</td>\n",
       "      <td>-5.904731</td>\n",
       "      <td>-7.728708</td>\n",
       "      <td>-59.196454</td>\n",
       "      <td>1</td>\n",
       "      <td>1</td>\n",
       "    </tr>\n",
       "    <tr>\n",
       "      <th>244</th>\n",
       "      <td>04968_015229777_750.tif</td>\n",
       "      <td>69.399696</td>\n",
       "      <td>-150.939516</td>\n",
       "      <td>815.994696</td>\n",
       "      <td>-5.142160</td>\n",
       "      <td>-7.206589</td>\n",
       "      <td>-58.931976</td>\n",
       "      <td>1</td>\n",
       "      <td>1</td>\n",
       "    </tr>\n",
       "    <tr>\n",
       "      <th>245</th>\n",
       "      <td>07468_020909777_750.tif</td>\n",
       "      <td>69.399281</td>\n",
       "      <td>-150.949737</td>\n",
       "      <td>828.578328</td>\n",
       "      <td>-5.692875</td>\n",
       "      <td>-7.881758</td>\n",
       "      <td>-59.412124</td>\n",
       "      <td>1</td>\n",
       "      <td>1</td>\n",
       "    </tr>\n",
       "    <tr>\n",
       "      <th>246</th>\n",
       "      <td>04962_015227377_750.tif</td>\n",
       "      <td>69.398953</td>\n",
       "      <td>-150.942949</td>\n",
       "      <td>816.322799</td>\n",
       "      <td>-6.161281</td>\n",
       "      <td>-7.913900</td>\n",
       "      <td>-59.221627</td>\n",
       "      <td>1</td>\n",
       "      <td>1</td>\n",
       "    </tr>\n",
       "    <tr>\n",
       "      <th>247</th>\n",
       "      <td>07471_020910976_750.tif</td>\n",
       "      <td>69.399643</td>\n",
       "      <td>-150.948016</td>\n",
       "      <td>829.257438</td>\n",
       "      <td>-6.132249</td>\n",
       "      <td>-8.338920</td>\n",
       "      <td>-59.125335</td>\n",
       "      <td>1</td>\n",
       "      <td>1</td>\n",
       "    </tr>\n",
       "  </tbody>\n",
       "</table>\n",
       "<p>248 rows × 9 columns</p>\n",
       "</div>"
      ],
      "text/plain": [
       "               imagename_tif          y           x  altitude [meter]  \\\n",
       "0    03633_014335777_750.tif  69.395074 -150.935698        840.876289   \n",
       "1    03630_014334577_750.tif  69.395442 -150.933956        840.902523   \n",
       "2    07477_020913377_750.tif  69.400369 -150.944583        830.285500   \n",
       "3    03634_014336177_750.tif  69.394952 -150.936281        841.052131   \n",
       "4    01141_012658977_750.tif  69.397809 -150.931637        808.185511   \n",
       "..                       ...        ...         ...               ...   \n",
       "243  04963_015227777_750.tif  69.399077 -150.942377        816.337293   \n",
       "244  04968_015229777_750.tif  69.399696 -150.939516        815.994696   \n",
       "245  07468_020909777_750.tif  69.399281 -150.949737        828.578328   \n",
       "246  04962_015227377_750.tif  69.398953 -150.942949        816.322799   \n",
       "247  07471_020910976_750.tif  69.399643 -150.948016        829.257438   \n",
       "\n",
       "     omega [degrees]   phi [degrees]   kappa [degrees]  horizontal_accuracy  \\\n",
       "0           5.446749        6.346476        117.484892                    1   \n",
       "1           7.536056        7.176561        115.975265                    1   \n",
       "2          -5.330775       -7.154992        -59.343463                    1   \n",
       "3           6.597935        7.211210        118.312835                    1   \n",
       "4           6.619568        8.595975        116.665019                    1   \n",
       "..               ...             ...               ...                  ...   \n",
       "243        -5.904731       -7.728708        -59.196454                    1   \n",
       "244        -5.142160       -7.206589        -58.931976                    1   \n",
       "245        -5.692875       -7.881758        -59.412124                    1   \n",
       "246        -6.161281       -7.913900        -59.221627                    1   \n",
       "247        -6.132249       -8.338920        -59.125335                    1   \n",
       "\n",
       "     vertical_accuracy  \n",
       "0                    1  \n",
       "1                    1  \n",
       "2                    1  \n",
       "3                    1  \n",
       "4                    1  \n",
       "..                 ...  \n",
       "243                  1  \n",
       "244                  1  \n",
       "245                  1  \n",
       "246                  1  \n",
       "247                  1  \n",
       "\n",
       "[248 rows x 9 columns]"
      ]
     },
     "execution_count": 44,
     "metadata": {},
     "output_type": "execute_result"
    }
   ],
   "source": [
    "df_new"
   ]
  },
  {
   "cell_type": "markdown",
   "metadata": {},
   "source": [
    "#### Export file "
   ]
  },
  {
   "cell_type": "code",
   "execution_count": 45,
   "metadata": {},
   "outputs": [],
   "source": [
    "df_new.to_csv(outfile, sep='\\t', header=True, index=False)"
   ]
  }
 ],
 "metadata": {
  "kernelspec": {
   "display_name": "Python [conda env:gee]",
   "language": "python",
   "name": "conda-env-gee-py"
  },
  "language_info": {
   "codemirror_mode": {
    "name": "ipython",
    "version": 3
   },
   "file_extension": ".py",
   "mimetype": "text/x-python",
   "name": "python",
   "nbconvert_exporter": "python",
   "pygments_lexer": "ipython3",
   "version": "3.7.6"
  }
 },
 "nbformat": 4,
 "nbformat_minor": 2
}
