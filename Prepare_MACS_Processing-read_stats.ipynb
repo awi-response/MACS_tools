{
 "cells": [
  {
   "cell_type": "markdown",
   "metadata": {},
   "source": [
    "## Script to move raw MACS files based on extracted footprints files \n",
    "**author:** Ingmar Nitze, Tabea Rettelbach, Simon Schäffler\n",
    "\n",
    "**contact:** ingmar.nitze@awi.de\n",
    "\n",
    "**version date:** 2022-02-08\n",
    "\n",
    "**repository and other tools** https://github.com/awi-response/MACS_tools"
   ]
  },
  {
   "cell_type": "markdown",
   "metadata": {},
   "source": [
    "### Imports "
   ]
  },
  {
   "cell_type": "code",
   "execution_count": null,
   "metadata": {},
   "outputs": [],
   "source": [
    "import geopandas as gpd\n",
    "import shutil\n",
    "import os\n",
    "import glob\n",
    "import pandas as pd\n",
    "from IPython.display import clear_output\n",
    "import sys\n",
    "import numpy as np\n",
    "import tqdm\n",
    "import zipfile\n",
    "from pathlib import Path\n",
    "from joblib import delayed, Parallel, wrap_non_picklable_objects\n",
    "import numpy as np\n",
    "from pathlib import Path\n",
    "import matplotlib.pyplot as plt\n",
    "from processing_utils import *"
   ]
  },
  {
   "cell_type": "code",
   "execution_count": 110,
   "metadata": {},
   "outputs": [],
   "source": [
    "# check for multilayer\n",
    "def rescale(array, minimum, maximum, dtype=np.uint16, gain=1.):\n",
    "    factor = 2**16 / maximum\n",
    "    out = (array - minimum) / (maximum - minimum) * factor * maximum * gain\n",
    "    out2 = out.round()\n",
    "    return np.array(np.around(np.clip(out2, 1, (2**16)-1)), dtype=dtype) "
   ]
  },
  {
   "cell_type": "code",
   "execution_count": 117,
   "metadata": {},
   "outputs": [],
   "source": [
    "# add tag\n",
    "def write_new_values(image, minimum, maximum, shutter_factor=1, tag=True):\n",
    "    with rasterio.open(image, mode='r+')as src:\n",
    "        data = src.read()\n",
    "        datanew = rescale(data, minimum, maximum, gain=shutter_factor)\n",
    "        src.write(datanew)\n",
    "        if tag:\n",
    "            src.update_tags(VALUE_STRETCH_MINIMUM=minimum, VALUE_STRETCH_MAXIMUM=maximum)"
   ]
  },
  {
   "cell_type": "code",
   "execution_count": null,
   "metadata": {},
   "outputs": [],
   "source": [
    "def read_stats(image):\n",
    "    with rasterio.open(image) as src:\n",
    "        a = src.read()\n",
    "        return a.mean(), a.min(), a.max(), a.std()"
   ]
  },
  {
   "cell_type": "code",
   "execution_count": null,
   "metadata": {},
   "outputs": [],
   "source": [
    "def read_stats_extended(image):\n",
    "    with rasterio.open(image) as src:\n",
    "        a = src.read()\n",
    "        return a.mean(), a.min(), a.max(), a.std(), np.percentile(a, 1), np.percentile(a, 99)"
   ]
  },
  {
   "cell_type": "code",
   "execution_count": 86,
   "metadata": {},
   "outputs": [],
   "source": [
    "def get_image_stats_multi(OUTDIR, sensors, n_jobs=40, nth_images=1, quiet=False):\n",
    "    dfs = []\n",
    "    for sensor in sensors:\n",
    "        images = list(OUTDIR[sensor].glob('*.tif'))[::nth_images]\n",
    "        if quiet:\n",
    "            stats = Parallel(n_jobs=n_jobs)(delayed(read_stats_extended)(image) for image in images)\n",
    "        else:\n",
    "            stats = Parallel(n_jobs=n_jobs)(delayed(read_stats_extended)(image) for image in tqdm.tqdm_notebook(images))\n",
    "        #stats = [read_stats_extended(image) for image in tqdm.tqdm_notebook(images)]\n",
    "        df_stats = pd.DataFrame(data=np.array(stats), columns=['mean', 'min', 'max', 'std', 'p01', 'p99'])\n",
    "        df_stats['image'] = images\n",
    "        df_stats['sensor'] = sensor\n",
    "        dfs.append(df_stats)\n",
    "    df = pd.concat(dfs)\n",
    "    return df\n",
    "    "
   ]
  },
  {
   "cell_type": "code",
   "execution_count": 130,
   "metadata": {},
   "outputs": [],
   "source": [
    "def get_shutter_factor(OUTDIR, sensors):\n",
    "    \"\"\"\n",
    "    get shutter ratio between RGB and NIR. scaling factor for RGB (>1 = increase in values) \n",
    "    \"\"\"\n",
    "    shutter = {}\n",
    "    for sensor in sensors:\n",
    "        images = list(OUTDIR[sensor].glob('*.tif'))\n",
    "        f = images[0]\n",
    "        shutter[sensor] = int(f.stem.split('_')[-1])\n",
    "    if ('right' in sensors) and ('nir' in sensors):\n",
    "        factor = shutter['nir'] / shutter['right']\n",
    "    elif ('left' in sensors) and ('nir' in sensors):\n",
    "        factor = shutter['nir'] / shutter['left']\n",
    "    else:\n",
    "        factor = 1\n",
    "    return factor"
   ]
  },
  {
   "cell_type": "code",
   "execution_count": null,
   "metadata": {},
   "outputs": [],
   "source": [
    "pwd = Path(os.getcwd())"
   ]
  },
  {
   "cell_type": "markdown",
   "metadata": {},
   "source": [
    "### Functions "
   ]
  },
  {
   "cell_type": "markdown",
   "metadata": {},
   "source": [
    "### Settings \n",
    "* prefer full/absolute paths\n",
    "* Create processing template automatically"
   ]
  },
  {
   "cell_type": "markdown",
   "metadata": {},
   "source": [
    "#### Variable Settings "
   ]
  },
  {
   "cell_type": "code",
   "execution_count": null,
   "metadata": {},
   "outputs": [],
   "source": [
    "# Set project directory here, where you want to process your data\n",
    "#PROJECT_DIR = r''\n",
    "PROJECT_DIR = r'D:\\pix4d_Processing\\ThawTrendAir_2019\\Image_Test_non_cropped' # SET Project output\n",
    "\n",
    "# Set raw data dir here for the speicific image acquisition project\n",
    "#path_infiles = r''\n",
    "path_infiles = r'N:\\response\\Restricted_Airborne\\MACs\\Alaska\\ThawTrend-Air_2019\\raw_data\\20190727-235440_15L_Ketik_fire_flight_plan_v3'\n",
    "\n",
    "# determine which sensors to include in processing (possible options: 'left', 'right', 'nir')\n",
    "sensors = ['left', 'right', 'nir']\n",
    "\n",
    "# Set CROP CORNER if \n",
    "CROP_CORNER = 0 # SET to 1 if you want to crop corners (set to NoData)\n",
    "DISK_SIZE = 5200 # Cropping diameter, the larger the fewer no data\n",
    "\n",
    "# SET SCALING if\n",
    "SCALING = 1"
   ]
  },
  {
   "cell_type": "markdown",
   "metadata": {},
   "source": [
    "#### Fixed Settings\n",
    "* These Settings can be kept"
   ]
  },
  {
   "cell_type": "code",
   "execution_count": null,
   "metadata": {},
   "outputs": [],
   "source": [
    "CODE_DIR = pwd\n",
    "MIPPS_DIR = r'C:\\Program Files\\DLR MACS-Box\\bin'\n",
    "MIPPS_BIN = r'..\\tools\\MACS\\mipps.exe'\n",
    "EXIF_PATH = Path(CODE_DIR / Path(r'exiftool\\exiftool.exe'))\n",
    "mipps_script_dir = Path('mipps_scripts')"
   ]
  },
  {
   "cell_type": "code",
   "execution_count": null,
   "metadata": {},
   "outputs": [],
   "source": [
    "mipps_script_nir = '33552_all_taps_2018-09-26_12-58-15_modelbased.mipps'\n",
    "mipps_script_right = '33576_all_taps_2018-09-26_13-13-43_modelbased.mipps'\n",
    "mipps_script_left = '33577_all_taps_2018-09-26_13-21-24_modelbased.mipps'\n",
    "\n",
    "#mipps_script_nir = r'mipps_scripts\\33552_all_taps_2018-09-26_12-58-15_modelbased_x4.mipps'\n",
    "#mipps_script_right = r'mipps_scripts\\33576_all_taps_2018-09-26_13-13-43_modelbased_x4.mipps'\n",
    "#mipps_script_left = r'mipps_scripts\\33577_all_taps_2018-09-26_13-21-24_modelbased_x4.mipps'\n",
    "\n",
    "mipps_script_nir = pwd / mipps_script_dir / mipps_script_nir\n",
    "mipps_script_right = pwd / mipps_script_dir / mipps_script_right\n",
    "mipps_script_left = pwd / mipps_script_dir / mipps_script_left"
   ]
  },
  {
   "cell_type": "code",
   "execution_count": null,
   "metadata": {},
   "outputs": [],
   "source": [
    "DATA_DIR = Path(PROJECT_DIR) / '01_rawdata' / 'tif'\n",
    "OUTDIR = {'right': DATA_DIR / Path('33576_Right'),\n",
    "          'left':DATA_DIR / Path('33577_Left'),\n",
    "          'nir':DATA_DIR / Path('33552_NIR')}\n",
    "tag = {'right':'MACS_RGB_Right_33576',\n",
    "       'left':'MACS_RGB_Left_33577',\n",
    "       'nir':'MACS_NIR_33552'}"
   ]
  },
  {
   "cell_type": "code",
   "execution_count": null,
   "metadata": {},
   "outputs": [],
   "source": [
    "# Path of filtered footprints file (.shp file)\n",
    "path_footprints = os.path.join(PROJECT_DIR, '02_studysites','footprints.shp')\n",
    "outdir = os.path.join(PROJECT_DIR, '01_rawdata','tif')"
   ]
  },
  {
   "cell_type": "markdown",
   "metadata": {},
   "source": [
    "#### Prepare processing dir \n",
    "* check if exists"
   ]
  },
  {
   "cell_type": "code",
   "execution_count": null,
   "metadata": {},
   "outputs": [],
   "source": [
    "zippath = os.path.join(CODE_DIR, 'processing_folder_structure_template.zip')\n",
    "nav_script_path = os.path.join(CODE_DIR, 'pix4dnav.py')"
   ]
  },
  {
   "cell_type": "code",
   "execution_count": null,
   "metadata": {},
   "outputs": [],
   "source": [
    "with zipfile.ZipFile(zippath, 'r') as zip_ref:\n",
    "    zip_ref.extractall(PROJECT_DIR)\n",
    "shutil.copy(nav_script_path, outdir)"
   ]
  },
  {
   "cell_type": "markdown",
   "metadata": {},
   "source": [
    "### Manual Selection of footprints "
   ]
  },
  {
   "cell_type": "markdown",
   "metadata": {},
   "source": [
    "Now select footprints and export selection as ***footprints.shp*** to ***02_footprints*** in your working directory"
   ]
  },
  {
   "cell_type": "markdown",
   "metadata": {},
   "source": [
    "#### Load filtered footprints file "
   ]
  },
  {
   "cell_type": "code",
   "execution_count": 134,
   "metadata": {},
   "outputs": [],
   "source": [
    "#df_final = prepare_df_for_mipps(path_footprints, path_infiles)\n",
    "df_final = prepare_df_for_mipps(path_footprints, path_infiles)"
   ]
  },
  {
   "cell_type": "markdown",
   "metadata": {},
   "source": [
    "#### Workaround to deal with spaces in path\" "
   ]
  },
  {
   "cell_type": "code",
   "execution_count": 135,
   "metadata": {},
   "outputs": [],
   "source": [
    "df_final['full_path'] = df_final.apply(lambda x: f'\"{x.full_path}\"', axis=1)"
   ]
  },
  {
   "cell_type": "code",
   "execution_count": 136,
   "metadata": {},
   "outputs": [
    {
     "name": "stdout",
     "output_type": "stream",
     "text": [
      "Total number of images: 499\n",
      "NIR images: 206\n",
      "RGB right images: 182\n",
      "RGB left images: 111\n"
     ]
    }
   ],
   "source": [
    "print(\"Total number of images:\", len(df_final))\n",
    "print(\"NIR images:\", (df_final['Looking'] == 'center').sum())\n",
    "print(\"RGB right images:\", (df_final['Looking'] == 'right').sum())\n",
    "print(\"RGB left images:\", (df_final['Looking'] == 'left').sum())"
   ]
  },
  {
   "cell_type": "markdown",
   "metadata": {},
   "source": [
    "#### Run Process "
   ]
  },
  {
   "cell_type": "code",
   "execution_count": 137,
   "metadata": {},
   "outputs": [],
   "source": [
    "os.chdir(MIPPS_DIR)"
   ]
  },
  {
   "cell_type": "code",
   "execution_count": 138,
   "metadata": {},
   "outputs": [],
   "source": [
    "max_roll = 3 # Select maximum roll angle to avoid image issues - SET in main settings part?\n",
    "chunksize = 20 # this is a mipps-script thing"
   ]
  },
  {
   "cell_type": "code",
   "execution_count": null,
   "metadata": {},
   "outputs": [],
   "source": [
    "# this is relevant for NIR only\n",
    "if 'nir' in sensors:\n",
    "    looking = 'center'\n",
    "    q = (np.abs(df_final['Roll[deg]']) < max_roll) & (df_final['Looking'] == looking)\n",
    "    df_nir = df_final[q]\n",
    "    print(len(df_nir))\n",
    "    for df in tqdm.tqdm_notebook(np.array_split(df_nir, len(df_nir) // chunksize)):\n",
    "        outlist = ' '.join(df['full_path'].values[:])\n",
    "        s = f'{MIPPS_BIN} -c={mipps_script_nir} -o={outdir} -j=4 {outlist}'\n",
    "        os.system(s)\n",
    "        #print(s)"
   ]
  },
  {
   "cell_type": "code",
   "execution_count": null,
   "metadata": {},
   "outputs": [],
   "source": [
    "# this is RGB\n",
    "if 'right' in sensors:\n",
    "    looking = 'right'\n",
    "    q = (np.abs(df_final['Roll[deg]']) < max_roll) & (df_final['Looking'] == looking)\n",
    "    df_right = df_final[q]\n",
    "    for df in tqdm.tqdm_notebook(np.array_split(df_right, len(df_right) // chunksize)):\n",
    "        outlist = ' '.join(df['full_path'].values[:])\n",
    "        s = f'{MIPPS_BIN} -c={mipps_script_right} -o={outdir} -j=4 {outlist}'\n",
    "        os.system(s)"
   ]
  },
  {
   "cell_type": "code",
   "execution_count": null,
   "metadata": {},
   "outputs": [],
   "source": [
    "if 'left' in sensors:\n",
    "    looking = 'left'\n",
    "    q = (np.abs(df_final['Roll[deg]']) < max_roll) & (df_final['Looking'] == looking)\n",
    "    df_left = df_final[q]\n",
    "    for df in tqdm.tqdm_notebook(np.array_split(df_left, len(df_left) // chunksize)):\n",
    "        outlist = ' '.join(df['full_path'].values[:])\n",
    "        s = f'{MIPPS_BIN} -c={mipps_script_left} -o={outdir} -j=4 {outlist}'\n",
    "        os.system(s)"
   ]
  },
  {
   "cell_type": "markdown",
   "metadata": {},
   "source": [
    "### Rescale image values "
   ]
  },
  {
   "cell_type": "markdown",
   "metadata": {},
   "source": [
    "#### Image Statistics "
   ]
  },
  {
   "cell_type": "code",
   "execution_count": 141,
   "metadata": {},
   "outputs": [
    {
     "name": "stdout",
     "output_type": "stream",
     "text": [
      "CPU times: total: 125 ms\n",
      "Wall time: 3.34 s\n",
      "Mean of minimums: 2548\n",
      "Mean of maximums: 29623\n"
     ]
    }
   ],
   "source": [
    "if SCALING:\n",
    "    %time df_stats = get_image_stats_multi(OUTDIR, sensors, nth_images=10, quiet=True)\n",
    "    #absolute\n",
    "    scale_upper = int(df_stats['max'].mean().round())\n",
    "    scale_lower = int(df_stats['min'].mean().round())\n",
    "    print(f'Mean of minimums: {scale_lower}')\n",
    "    print(f'Mean of maximums: {scale_upper}')"
   ]
  },
  {
   "cell_type": "markdown",
   "metadata": {},
   "source": [
    "#### Run scaling\n",
    "* minimum default to 0\n",
    "* consitency for final index calculation"
   ]
  },
  {
   "cell_type": "code",
   "execution_count": 142,
   "metadata": {},
   "outputs": [
    {
     "name": "stdout",
     "output_type": "stream",
     "text": [
      "Processing left\n",
      "RGB to NIR factor = 1.0\n"
     ]
    },
    {
     "name": "stderr",
     "output_type": "stream",
     "text": [
      "<timed exec>:1: TqdmDeprecationWarning: This function will be removed in tqdm==5.0.0\n",
      "Please use `tqdm.notebook.tqdm` instead of `tqdm.tqdm_notebook`\n"
     ]
    },
    {
     "data": {
      "application/vnd.jupyter.widget-view+json": {
       "model_id": "dbb48c0b5512478aa874efe50f608e01",
       "version_major": 2,
       "version_minor": 0
      },
      "text/plain": [
       "  0%|          | 0/30 [00:00<?, ?it/s]"
      ]
     },
     "metadata": {},
     "output_type": "display_data"
    },
    {
     "name": "stdout",
     "output_type": "stream",
     "text": [
      "CPU times: total: 344 ms\n",
      "Wall time: 14.2 s\n",
      "Processing right\n",
      "RGB to NIR factor = 1.0\n"
     ]
    },
    {
     "data": {
      "application/vnd.jupyter.widget-view+json": {
       "model_id": "eb4eff4fbfff40529fdffe663873634e",
       "version_major": 2,
       "version_minor": 0
      },
      "text/plain": [
       "  0%|          | 0/30 [00:00<?, ?it/s]"
      ]
     },
     "metadata": {},
     "output_type": "display_data"
    },
    {
     "name": "stdout",
     "output_type": "stream",
     "text": [
      "CPU times: total: 93.8 ms\n",
      "Wall time: 11.4 s\n",
      "Processing nir\n"
     ]
    },
    {
     "data": {
      "application/vnd.jupyter.widget-view+json": {
       "model_id": "9e735172df404770ba7de58d8703095e",
       "version_major": 2,
       "version_minor": 0
      },
      "text/plain": [
       "  0%|          | 0/30 [00:00<?, ?it/s]"
      ]
     },
     "metadata": {},
     "output_type": "display_data"
    },
    {
     "name": "stdout",
     "output_type": "stream",
     "text": [
      "CPU times: total: 78.1 ms\n",
      "Wall time: 3.17 s\n"
     ]
    }
   ],
   "source": [
    "if SCALING:\n",
    "    n_jobs = 50\n",
    "    for sensor in sensors:\n",
    "        print(f'Processing {sensor}')\n",
    "        #shutter_factor\n",
    "        images = list(OUTDIR[sensor].glob('*.tif'))[:]\n",
    "        if sensor in ['right', 'left']:\n",
    "            shutter_factor = get_shutter_factor(OUTDIR, sensors)\n",
    "            print(f'RGB to NIR factor = {shutter_factor}')\n",
    "        else:\n",
    "            shutter_factor = 1\n",
    "        %time _ = Parallel(n_jobs=n_jobs)(delayed(write_new_values)(image, 0, scale_upper, shutter_factor=shutter_factor, tag=True) for image in tqdm.tqdm_notebook(images[:30]))"
   ]
  },
  {
   "cell_type": "markdown",
   "metadata": {},
   "source": [
    "#### Crop Corners of images "
   ]
  },
  {
   "cell_type": "markdown",
   "metadata": {},
   "source": [
    "* joblib will crash\n",
    "* in other notebook it did not crash"
   ]
  },
  {
   "cell_type": "code",
   "execution_count": 143,
   "metadata": {},
   "outputs": [],
   "source": [
    "if CROP_CORNER:\n",
    "    #mask = make_mask((3232, 4864), disksize=DISK_SIZE)\n",
    "    for sensor in sensors[:]:\n",
    "        mask = make_mask((3232, 4864), disksize=DISK_SIZE)\n",
    "        images = list(OUTDIR[sensor].glob('*'))\n",
    "        if sensor != 'nir':\n",
    "            mask = np.r_[[mask]*3]\n",
    "        %time _ = [mask_and_tag(image, mask, tag=None) for image in tqdm.tqdm_notebook(images)]\n",
    "        #%time _ = Parallel(n_jobs=4)(delayed(mask_and_tag)(image, mask, tag=None) for image in tqdm.tqdm_notebook(images))"
   ]
  },
  {
   "cell_type": "markdown",
   "metadata": {},
   "source": [
    "#### Write exif information into all images "
   ]
  },
  {
   "cell_type": "code",
   "execution_count": 144,
   "metadata": {},
   "outputs": [
    {
     "name": "stderr",
     "output_type": "stream",
     "text": [
      "C:\\Users\\initze\\AppData\\Local\\Temp\\ipykernel_31688\\2113234875.py:1: TqdmDeprecationWarning: This function will be removed in tqdm==5.0.0\n",
      "Please use `tqdm.notebook.tqdm` instead of `tqdm.tqdm_notebook`\n",
      "  for sensor in tqdm.tqdm_notebook(sensors):\n"
     ]
    },
    {
     "data": {
      "application/vnd.jupyter.widget-view+json": {
       "model_id": "09c95f5076e04887bfd4f89cd69e7a3f",
       "version_major": 2,
       "version_minor": 0
      },
      "text/plain": [
       "  0%|          | 0/3 [00:00<?, ?it/s]"
      ]
     },
     "metadata": {},
     "output_type": "display_data"
    },
    {
     "name": "stdout",
     "output_type": "stream",
     "text": [
      "left\n",
      "D:\\pix4d_Processing\\MACS_tools\\exiftool\\exiftool.exe -overwrite_original -Model=\"MACS_RGB_Left_33577\" D:\\pix4d_Processing\\ThawTrendAir_2019\\Image_Test_non_cropped\\01_rawdata\\tif\\33577_Left\n",
      "CPU times: total: 0 ns\n",
      "Wall time: 17.9 s\n",
      "right\n",
      "D:\\pix4d_Processing\\MACS_tools\\exiftool\\exiftool.exe -overwrite_original -Model=\"MACS_RGB_Right_33576\" D:\\pix4d_Processing\\ThawTrendAir_2019\\Image_Test_non_cropped\\01_rawdata\\tif\\33576_Right\n",
      "CPU times: total: 0 ns\n",
      "Wall time: 32.3 s\n",
      "nir\n",
      "D:\\pix4d_Processing\\MACS_tools\\exiftool\\exiftool.exe -overwrite_original -Model=\"MACS_NIR_33552\" D:\\pix4d_Processing\\ThawTrendAir_2019\\Image_Test_non_cropped\\01_rawdata\\tif\\33552_NIR\n",
      "CPU times: total: 0 ns\n",
      "Wall time: 13.2 s\n"
     ]
    }
   ],
   "source": [
    "for sensor in tqdm.tqdm_notebook(sensors):\n",
    "    print(sensor)\n",
    "    %time write_exif(OUTDIR[sensor], tag[sensor], EXIF_PATH)"
   ]
  },
  {
   "cell_type": "markdown",
   "metadata": {},
   "source": [
    "#### Nav"
   ]
  },
  {
   "cell_type": "code",
   "execution_count": 145,
   "metadata": {},
   "outputs": [],
   "source": [
    "navfile = list(Path(path_infiles).glob('*nav.txt'))[0]"
   ]
  },
  {
   "cell_type": "code",
   "execution_count": 146,
   "metadata": {},
   "outputs": [
    {
     "data": {
      "text/plain": [
       "WindowsPath('D:/pix4d_Processing/ThawTrendAir_2019/Image_Test_non_cropped/01_rawdata/tif/nav.txt')"
      ]
     },
     "execution_count": 146,
     "metadata": {},
     "output_type": "execute_result"
    }
   ],
   "source": [
    "shutil.copy(navfile, OUTDIR['nir'].parent / 'nav.txt')"
   ]
  },
  {
   "cell_type": "code",
   "execution_count": 147,
   "metadata": {},
   "outputs": [
    {
     "data": {
      "text/plain": [
       "0"
      ]
     },
     "execution_count": 147,
     "metadata": {},
     "output_type": "execute_result"
    }
   ],
   "source": [
    "os.chdir(OUTDIR['nir'].parent)\n",
    "os.system('python pix4dnav.py')"
   ]
  },
  {
   "cell_type": "markdown",
   "metadata": {},
   "source": [
    "### Run test to calculate and compare stats of every n-th image\n",
    "* reduce calculation\n",
    "* simplify"
   ]
  },
  {
   "cell_type": "markdown",
   "metadata": {},
   "source": [
    "#### Show statistics of subsets "
   ]
  },
  {
   "cell_type": "code",
   "execution_count": 93,
   "metadata": {},
   "outputs": [
    {
     "name": "stdout",
     "output_type": "stream",
     "text": [
      "Absolute Minimum\n",
      "1096.0\n",
      "1067.0\n",
      "909.0\n",
      "280.0\n",
      "Absolute Mean\n",
      "10328.739980442293\n",
      "10158.951161013138\n",
      "10083.079676390404\n",
      "10068.576469464411\n",
      "Absolute Max\n",
      "42582.0\n",
      "43915.0\n",
      "44903.0\n",
      "46381.0\n",
      "Mean Max\n",
      "29318.423076923078\n",
      "29622.52\n",
      "29664.76767676768\n",
      "29551.909650924026\n",
      "Minimum perc01\n",
      "2375.0\n",
      "2358.0\n",
      "2330.0\n",
      "2330.0\n",
      "maximum perc99\n",
      "30529.0\n",
      "31220.0\n",
      "33022.0\n",
      "33075.0\n"
     ]
    }
   ],
   "source": [
    "print('Absolute Minimum')\n",
    "for df_tmp in [df_20, df_10, df_05, df_01]:\n",
    "    print (df_tmp['min'].min())\n",
    "print('Absolute Mean')\n",
    "for df_tmp in [df_20, df_10, df_05, df_01]:\n",
    "    print(df_tmp['mean'].mean())\n",
    "print('Absolute Max')\n",
    "for df_tmp in [df_20, df_10, df_05, df_01]:\n",
    "    print(df_tmp['max'].max())\n",
    "print('Mean Max')\n",
    "for df_tmp in [df_20, df_10, df_05, df_01]:\n",
    "    print(df_tmp['max'].mean())\n",
    "print('Minimum perc01')\n",
    "for df_tmp in [df_20, df_10, df_05, df_01]:\n",
    "    print(df_tmp['p01'].min())\n",
    "print('maximum perc99')\n",
    "for df_tmp in [df_20, df_10, df_05, df_01]:\n",
    "    print(df_tmp['p99'].max())"
   ]
  },
  {
   "cell_type": "code",
   "execution_count": 87,
   "metadata": {},
   "outputs": [
    {
     "name": "stdout",
     "output_type": "stream",
     "text": [
      "CPU times: total: 1.48 s\n",
      "Wall time: 16.6 s\n"
     ]
    }
   ],
   "source": [
    "%time df_01 = get_image_stats_multi(OUTDIR, sensors, nth_images=1, quiet=True)"
   ]
  },
  {
   "cell_type": "code",
   "execution_count": 88,
   "metadata": {},
   "outputs": [
    {
     "name": "stdout",
     "output_type": "stream",
     "text": [
      "CPU times: total: 469 ms\n",
      "Wall time: 7.55 s\n"
     ]
    }
   ],
   "source": [
    "%time df_05 = get_image_stats_multi(OUTDIR, sensors, nth_images=5, quiet=True)"
   ]
  },
  {
   "cell_type": "code",
   "execution_count": 90,
   "metadata": {},
   "outputs": [
    {
     "name": "stdout",
     "output_type": "stream",
     "text": [
      "CPU times: total: 93.8 ms\n",
      "Wall time: 2.81 s\n"
     ]
    }
   ],
   "source": [
    "%time df_20 = get_image_stats_multi(OUTDIR, sensors, nth_images=20, quiet=True)"
   ]
  },
  {
   "cell_type": "code",
   "execution_count": 102,
   "metadata": {},
   "outputs": [],
   "source": [
    "#RGB\n",
    "scale_upper = df_20.query('sensor in (\"left\", \"right\")')['max'].mean().round()\n",
    "scale_lower = df_20.query('sensor in (\"left\", \"right\")')['min'].mean().round()\n",
    "print(scale_lower, scale_upper)"
   ]
  },
  {
   "cell_type": "code",
   "execution_count": 104,
   "metadata": {},
   "outputs": [
    {
     "name": "stdout",
     "output_type": "stream",
     "text": [
      "3966.0 34761.0\n"
     ]
    }
   ],
   "source": [
    "#NIR\n",
    "scale_upper = df_20.query('sensor in (\"nir\")')['max'].mean().round()\n",
    "scale_lower = df_20.query('sensor in (\"nir\")')['min'].mean().round()\n",
    "print(scale_lower, scale_upper)"
   ]
  }
 ],
 "metadata": {
  "kernelspec": {
   "display_name": "Python 3 (ipykernel)",
   "language": "python",
   "name": "python3"
  },
  "language_info": {
   "codemirror_mode": {
    "name": "ipython",
    "version": 3
   },
   "file_extension": ".py",
   "mimetype": "text/x-python",
   "name": "python",
   "nbconvert_exporter": "python",
   "pygments_lexer": "ipython3",
   "version": "3.8.0"
  }
 },
 "nbformat": 4,
 "nbformat_minor": 2
}
