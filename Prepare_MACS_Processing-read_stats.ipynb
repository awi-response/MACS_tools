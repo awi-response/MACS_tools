{
 "cells": [
  {
   "cell_type": "markdown",
   "metadata": {},
   "source": [
    "## Script to move raw MACS files based on extracted footprints files \n",
    "**author:** Ingmar Nitze, Tabea Rettelbach, Simon Schäffler\n",
    "\n",
    "**contact:** ingmar.nitze@awi.de\n",
    "\n",
    "**version date:** 2022-02-23\n",
    "\n",
    "**repository and other tools** https://github.com/awi-response/MACS_tools"
   ]
  },
  {
   "cell_type": "markdown",
   "metadata": {},
   "source": [
    "## Contents\n",
    "1. Setup folder structure\n",
    "2. convert MACS files to TIFF with *mipps* including devignetting\n",
    "3. Rescale image values **Optional**\n",
    "4. Crop corners of images **Optional**\n",
    "5. Prepare nav files for Pix4d"
   ]
  },
  {
   "cell_type": "markdown",
   "metadata": {},
   "source": [
    "## Settings "
   ]
  },
  {
   "cell_type": "markdown",
   "metadata": {},
   "source": [
    "* prefer full/absolute paths\n",
    "* Create processing template automatically"
   ]
  },
  {
   "cell_type": "code",
   "execution_count": 1,
   "metadata": {},
   "outputs": [],
   "source": [
    "# Set project directory here, where you want to process your data\n",
    "#PROJECT_DIR = r''\n",
    "PROJECT_DIR = r'D:\\pix4d_Processing\\ThawTrendAir_2019\\Image_Test_CODE' # SET Project output\n",
    "\n",
    "# Set raw data dir here for the speicific image acquisition project\n",
    "#path_infiles = r''\n",
    "path_infiles = r'N:\\response\\Restricted_Airborne\\MACs\\Alaska\\ThawTrend-Air_2019\\raw_data\\20190727-235440_15L_Ketik_fire_flight_plan_v3'\n",
    "\n",
    "# determine which sensors to include in processing (possible options: 'left', 'right', 'nir')\n",
    "sensors = ['left', 'right', 'nir']\n",
    "\n",
    "# Set CROP CORNER if \n",
    "CROP_CORNER = 0 # SET to 1 if you want to crop corners (set to NoData)\n",
    "DISK_SIZE = 5200 # Cropping diameter, the larger the fewer no data\n",
    "\n",
    "# SET SCALING \n",
    "SCALING = 1\n",
    "SCALE_LOW = True # Set to True to use calculated lower boundary\n",
    "SCALE_HIGH = True # Set to True to use calculated upper boundary"
   ]
  },
  {
   "cell_type": "markdown",
   "metadata": {},
   "source": [
    "### Imports "
   ]
  },
  {
   "cell_type": "code",
   "execution_count": 2,
   "metadata": {},
   "outputs": [],
   "source": [
    "import geopandas as gpd\n",
    "import shutil\n",
    "import os\n",
    "import glob\n",
    "import pandas as pd\n",
    "from IPython.display import clear_output\n",
    "import sys\n",
    "import numpy as np\n",
    "import tqdm\n",
    "import zipfile\n",
    "from pathlib import Path\n",
    "from joblib import delayed, Parallel, wrap_non_picklable_objects\n",
    "import numpy as np\n",
    "from pathlib import Path\n",
    "import matplotlib.pyplot as plt\n",
    "from processing_utils import *"
   ]
  },
  {
   "cell_type": "code",
   "execution_count": 3,
   "metadata": {},
   "outputs": [],
   "source": [
    "pwd = Path(os.getcwd())"
   ]
  },
  {
   "cell_type": "markdown",
   "metadata": {},
   "source": [
    "#### Fixed Settings\n",
    "* These Settings can be kept"
   ]
  },
  {
   "cell_type": "code",
   "execution_count": 4,
   "metadata": {},
   "outputs": [],
   "source": [
    "CODE_DIR = pwd\n",
    "MIPPS_DIR = r'C:\\Program Files\\DLR MACS-Box\\bin'\n",
    "MIPPS_BIN = r'..\\tools\\MACS\\mipps.exe'\n",
    "EXIF_PATH = Path(CODE_DIR / Path(r'exiftool\\exiftool.exe'))\n",
    "mipps_script_dir = Path('mipps_scripts')"
   ]
  },
  {
   "cell_type": "code",
   "execution_count": 5,
   "metadata": {},
   "outputs": [],
   "source": [
    "mipps_script_nir = '33552_all_taps_2018-09-26_12-58-15_modelbased.mipps'\n",
    "mipps_script_right = '33576_all_taps_2018-09-26_13-13-43_modelbased.mipps'\n",
    "mipps_script_left = '33577_all_taps_2018-09-26_13-21-24_modelbased.mipps'\n",
    "\n",
    "mipps_script_nir = pwd / mipps_script_dir / mipps_script_nir\n",
    "mipps_script_right = pwd / mipps_script_dir / mipps_script_right\n",
    "mipps_script_left = pwd / mipps_script_dir / mipps_script_left"
   ]
  },
  {
   "cell_type": "code",
   "execution_count": 6,
   "metadata": {},
   "outputs": [],
   "source": [
    "DATA_DIR = Path(PROJECT_DIR) / '01_rawdata' / 'tif'\n",
    "OUTDIR = {'right': DATA_DIR / Path('33576_Right'),\n",
    "          'left':DATA_DIR / Path('33577_Left'),\n",
    "          'nir':DATA_DIR / Path('33552_NIR')}\n",
    "tag = {'right':'MACS_RGB_Right_33576',\n",
    "       'left':'MACS_RGB_Left_33577',\n",
    "       'nir':'MACS_NIR_33552'}"
   ]
  },
  {
   "cell_type": "code",
   "execution_count": 7,
   "metadata": {},
   "outputs": [],
   "source": [
    "# Path of filtered footprints file (.shp file)\n",
    "path_footprints = os.path.join(PROJECT_DIR, '02_studysites','footprints.shp')\n",
    "outdir = os.path.join(PROJECT_DIR, '01_rawdata','tif')"
   ]
  },
  {
   "cell_type": "markdown",
   "metadata": {},
   "source": [
    "#### Prepare processing dir \n",
    "* check if exists"
   ]
  },
  {
   "cell_type": "code",
   "execution_count": 8,
   "metadata": {},
   "outputs": [],
   "source": [
    "zippath = os.path.join(CODE_DIR, 'processing_folder_structure_template.zip')\n",
    "nav_script_path = os.path.join(CODE_DIR, 'pix4dnav.py')"
   ]
  },
  {
   "cell_type": "code",
   "execution_count": 9,
   "metadata": {},
   "outputs": [
    {
     "data": {
      "text/plain": [
       "'D:\\\\pix4d_Processing\\\\ThawTrendAir_2019\\\\Image_Test_CODE\\\\01_rawdata\\\\tif\\\\pix4dnav.py'"
      ]
     },
     "execution_count": 9,
     "metadata": {},
     "output_type": "execute_result"
    }
   ],
   "source": [
    "with zipfile.ZipFile(zippath, 'r') as zip_ref:\n",
    "    zip_ref.extractall(PROJECT_DIR)\n",
    "shutil.copy(nav_script_path, outdir)"
   ]
  },
  {
   "cell_type": "markdown",
   "metadata": {},
   "source": [
    "### Manual Selection of footprints "
   ]
  },
  {
   "cell_type": "markdown",
   "metadata": {},
   "source": [
    "Now select footprints and export selection as ***footprints.shp*** to ***02_footprints*** in your working directory"
   ]
  },
  {
   "cell_type": "markdown",
   "metadata": {},
   "source": [
    "#### Load filtered footprints file "
   ]
  },
  {
   "cell_type": "code",
   "execution_count": 10,
   "metadata": {},
   "outputs": [],
   "source": [
    "#df_final = prepare_df_for_mipps(path_footprints, path_infiles)\n",
    "df_final = prepare_df_for_mipps(path_footprints, path_infiles)"
   ]
  },
  {
   "cell_type": "markdown",
   "metadata": {},
   "source": [
    "#### Workaround to deal with spaces in path\" "
   ]
  },
  {
   "cell_type": "code",
   "execution_count": 11,
   "metadata": {},
   "outputs": [],
   "source": [
    "df_final['full_path'] = df_final.apply(lambda x: f'\"{x.full_path}\"', axis=1)"
   ]
  },
  {
   "cell_type": "code",
   "execution_count": 12,
   "metadata": {},
   "outputs": [
    {
     "name": "stdout",
     "output_type": "stream",
     "text": [
      "Total number of images: 499\n",
      "NIR images: 206\n",
      "RGB right images: 182\n",
      "RGB left images: 111\n"
     ]
    }
   ],
   "source": [
    "print(\"Total number of images:\", len(df_final))\n",
    "print(\"NIR images:\", (df_final['Looking'] == 'center').sum())\n",
    "print(\"RGB right images:\", (df_final['Looking'] == 'right').sum())\n",
    "print(\"RGB left images:\", (df_final['Looking'] == 'left').sum())"
   ]
  },
  {
   "cell_type": "markdown",
   "metadata": {},
   "source": [
    "#### Run Process "
   ]
  },
  {
   "cell_type": "code",
   "execution_count": 13,
   "metadata": {},
   "outputs": [],
   "source": [
    "os.chdir(MIPPS_DIR)"
   ]
  },
  {
   "cell_type": "code",
   "execution_count": 14,
   "metadata": {},
   "outputs": [],
   "source": [
    "max_roll = 3 # Select maximum roll angle to avoid image issues - SET in main settings part?\n",
    "chunksize = 20 # this is a mipps-script thing"
   ]
  },
  {
   "cell_type": "code",
   "execution_count": 15,
   "metadata": {},
   "outputs": [
    {
     "name": "stdout",
     "output_type": "stream",
     "text": [
      "201\n"
     ]
    },
    {
     "name": "stderr",
     "output_type": "stream",
     "text": [
      "C:\\Users\\initze\\AppData\\Local\\Temp\\ipykernel_35312\\1512507586.py:7: TqdmDeprecationWarning: This function will be removed in tqdm==5.0.0\n",
      "Please use `tqdm.notebook.tqdm` instead of `tqdm.tqdm_notebook`\n",
      "  for df in tqdm.tqdm_notebook(np.array_split(df_nir, len(df_nir) // chunksize)):\n"
     ]
    },
    {
     "data": {
      "application/vnd.jupyter.widget-view+json": {
       "model_id": "e9cfa4970d954330887eb15dce71a501",
       "version_major": 2,
       "version_minor": 0
      },
      "text/plain": [
       "  0%|          | 0/10 [00:00<?, ?it/s]"
      ]
     },
     "metadata": {},
     "output_type": "display_data"
    }
   ],
   "source": [
    "# this is relevant for NIR only\n",
    "if 'nir' in sensors:\n",
    "    looking = 'center'\n",
    "    q = (np.abs(df_final['Roll[deg]']) < max_roll) & (df_final['Looking'] == looking)\n",
    "    df_nir = df_final[q]\n",
    "    print(len(df_nir))\n",
    "    for df in tqdm.tqdm_notebook(np.array_split(df_nir, len(df_nir) // chunksize)):\n",
    "        outlist = ' '.join(df['full_path'].values[:])\n",
    "        s = f'{MIPPS_BIN} -c={mipps_script_nir} -o={outdir} -j=4 {outlist}'\n",
    "        os.system(s)\n",
    "        #print(s)"
   ]
  },
  {
   "cell_type": "code",
   "execution_count": 16,
   "metadata": {},
   "outputs": [
    {
     "name": "stderr",
     "output_type": "stream",
     "text": [
      "C:\\Users\\initze\\AppData\\Local\\Temp\\ipykernel_35312\\2076830559.py:6: TqdmDeprecationWarning: This function will be removed in tqdm==5.0.0\n",
      "Please use `tqdm.notebook.tqdm` instead of `tqdm.tqdm_notebook`\n",
      "  for df in tqdm.tqdm_notebook(np.array_split(df_right, len(df_right) // chunksize)):\n"
     ]
    },
    {
     "data": {
      "application/vnd.jupyter.widget-view+json": {
       "model_id": "ea2b6a62990746958a98c1f5efb11e8c",
       "version_major": 2,
       "version_minor": 0
      },
      "text/plain": [
       "  0%|          | 0/9 [00:00<?, ?it/s]"
      ]
     },
     "metadata": {},
     "output_type": "display_data"
    }
   ],
   "source": [
    "# this is RGB\n",
    "if 'right' in sensors:\n",
    "    looking = 'right'\n",
    "    q = (np.abs(df_final['Roll[deg]']) < max_roll) & (df_final['Looking'] == looking)\n",
    "    df_right = df_final[q]\n",
    "    for df in tqdm.tqdm_notebook(np.array_split(df_right, len(df_right) // chunksize)):\n",
    "        outlist = ' '.join(df['full_path'].values[:])\n",
    "        s = f'{MIPPS_BIN} -c={mipps_script_right} -o={outdir} -j=4 {outlist}'\n",
    "        os.system(s)"
   ]
  },
  {
   "cell_type": "code",
   "execution_count": 17,
   "metadata": {},
   "outputs": [
    {
     "name": "stderr",
     "output_type": "stream",
     "text": [
      "C:\\Users\\initze\\AppData\\Local\\Temp\\ipykernel_35312\\1335427181.py:5: TqdmDeprecationWarning: This function will be removed in tqdm==5.0.0\n",
      "Please use `tqdm.notebook.tqdm` instead of `tqdm.tqdm_notebook`\n",
      "  for df in tqdm.tqdm_notebook(np.array_split(df_left, len(df_left) // chunksize)):\n"
     ]
    },
    {
     "data": {
      "application/vnd.jupyter.widget-view+json": {
       "model_id": "20db3a986d7d428e896644de5b20b6be",
       "version_major": 2,
       "version_minor": 0
      },
      "text/plain": [
       "  0%|          | 0/5 [00:00<?, ?it/s]"
      ]
     },
     "metadata": {},
     "output_type": "display_data"
    }
   ],
   "source": [
    "if 'left' in sensors:\n",
    "    looking = 'left'\n",
    "    q = (np.abs(df_final['Roll[deg]']) < max_roll) & (df_final['Looking'] == looking)\n",
    "    df_left = df_final[q]\n",
    "    for df in tqdm.tqdm_notebook(np.array_split(df_left, len(df_left) // chunksize)):\n",
    "        outlist = ' '.join(df['full_path'].values[:])\n",
    "        s = f'{MIPPS_BIN} -c={mipps_script_left} -o={outdir} -j=4 {outlist}'\n",
    "        os.system(s)"
   ]
  },
  {
   "cell_type": "markdown",
   "metadata": {},
   "source": [
    "### Rescale image values "
   ]
  },
  {
   "cell_type": "markdown",
   "metadata": {},
   "source": [
    "#### Image Statistics "
   ]
  },
  {
   "cell_type": "code",
   "execution_count": 18,
   "metadata": {},
   "outputs": [
    {
     "name": "stdout",
     "output_type": "stream",
     "text": [
      "CPU times: total: 250 ms\n",
      "Wall time: 9.98 s\n",
      "Mean of minimums: 2548\n",
      "Mean of maximums: 29623\n"
     ]
    }
   ],
   "source": [
    "if SCALING:\n",
    "    %time df_stats = get_image_stats_multi(OUTDIR, sensors, nth_images=10, quiet=True)\n",
    "    #absolute\n",
    "    if SCALE_LOW:\n",
    "        scale_lower = int(df_stats['min'].mean().round())\n",
    "    else:\n",
    "        scale_lower = 1\n",
    "    if SCALE_HIGH:\n",
    "        scale_upper = int(df_stats['max'].mean().round())\n",
    "    else:\n",
    "        scale_upper = 2*16-1\n",
    "    print(f'Mean of minimums: {scale_lower}')\n",
    "    print(f'Mean of maximums: {scale_upper}')"
   ]
  },
  {
   "cell_type": "markdown",
   "metadata": {},
   "source": [
    "#### Run scaling\n",
    "* minimum default to 1\n",
    "* consistency for final index calculation"
   ]
  },
  {
   "cell_type": "code",
   "execution_count": 19,
   "metadata": {},
   "outputs": [
    {
     "name": "stdout",
     "output_type": "stream",
     "text": [
      "Processing left\n",
      "RGB to NIR factor = 1.0\n"
     ]
    },
    {
     "name": "stderr",
     "output_type": "stream",
     "text": [
      "<timed exec>:1: TqdmDeprecationWarning: This function will be removed in tqdm==5.0.0\n",
      "Please use `tqdm.notebook.tqdm` instead of `tqdm.tqdm_notebook`\n"
     ]
    },
    {
     "data": {
      "application/vnd.jupyter.widget-view+json": {
       "model_id": "fb6fecd668504bc08b94bce9d4bafe16",
       "version_major": 2,
       "version_minor": 0
      },
      "text/plain": [
       "  0%|          | 0/106 [00:00<?, ?it/s]"
      ]
     },
     "metadata": {},
     "output_type": "display_data"
    },
    {
     "name": "stdout",
     "output_type": "stream",
     "text": [
      "CPU times: total: 391 ms\n",
      "Wall time: 30.4 s\n",
      "Processing right\n",
      "RGB to NIR factor = 1.0\n"
     ]
    },
    {
     "data": {
      "application/vnd.jupyter.widget-view+json": {
       "model_id": "aa6a6ad12f804a5f9bd25b56100fc632",
       "version_major": 2,
       "version_minor": 0
      },
      "text/plain": [
       "  0%|          | 0/180 [00:00<?, ?it/s]"
      ]
     },
     "metadata": {},
     "output_type": "display_data"
    },
    {
     "name": "stdout",
     "output_type": "stream",
     "text": [
      "CPU times: total: 188 ms\n",
      "Wall time: 39.4 s\n",
      "Processing nir\n"
     ]
    },
    {
     "data": {
      "application/vnd.jupyter.widget-view+json": {
       "model_id": "9114a154f23d436caf9f156556e055df",
       "version_major": 2,
       "version_minor": 0
      },
      "text/plain": [
       "  0%|          | 0/201 [00:00<?, ?it/s]"
      ]
     },
     "metadata": {},
     "output_type": "display_data"
    },
    {
     "name": "stdout",
     "output_type": "stream",
     "text": [
      "CPU times: total: 219 ms\n",
      "Wall time: 11.8 s\n"
     ]
    }
   ],
   "source": [
    "if SCALING:\n",
    "    n_jobs = 50\n",
    "    for sensor in sensors:\n",
    "        print(f'Processing {sensor}')\n",
    "        #shutter_factor\n",
    "        images = list(OUTDIR[sensor].glob('*.tif'))[:]\n",
    "        if sensor in ['right', 'left']:\n",
    "            shutter_factor = get_shutter_factor(OUTDIR, sensors)\n",
    "            print(f'RGB to NIR factor = {shutter_factor}')\n",
    "        else:\n",
    "            shutter_factor = 1\n",
    "        \n",
    "        %time _ = Parallel(n_jobs=n_jobs)(delayed(write_new_values)(image, scale_lower, scale_upper, shutter_factor=shutter_factor, tag=True) for image in tqdm.tqdm_notebook(images[:]))"
   ]
  },
  {
   "cell_type": "markdown",
   "metadata": {},
   "source": [
    "#### Crop Corners of images "
   ]
  },
  {
   "cell_type": "code",
   "execution_count": 20,
   "metadata": {},
   "outputs": [],
   "source": [
    "if CROP_CORNER:\n",
    "    #mask = make_mask((3232, 4864), disksize=DISK_SIZE)\n",
    "    for sensor in sensors[:]:\n",
    "        mask = make_mask((3232, 4864), disksize=DISK_SIZE)\n",
    "        images = list(OUTDIR[sensor].glob('*'))\n",
    "        if sensor != 'nir':\n",
    "            mask = np.r_[[mask]*3]\n",
    "        #%time _ = [mask_and_tag(image, mask, tag=None) for image in tqdm.tqdm_notebook(images)]\n",
    "        %time _ = Parallel(n_jobs=4)(delayed(mask_and_tag)(image, mask, tag=None) for image in tqdm.tqdm_notebook(images))"
   ]
  },
  {
   "cell_type": "markdown",
   "metadata": {},
   "source": [
    "#### Write exif information into all images "
   ]
  },
  {
   "cell_type": "code",
   "execution_count": 21,
   "metadata": {},
   "outputs": [
    {
     "name": "stderr",
     "output_type": "stream",
     "text": [
      "C:\\Users\\initze\\AppData\\Local\\Temp\\ipykernel_35312\\2113234875.py:1: TqdmDeprecationWarning: This function will be removed in tqdm==5.0.0\n",
      "Please use `tqdm.notebook.tqdm` instead of `tqdm.tqdm_notebook`\n",
      "  for sensor in tqdm.tqdm_notebook(sensors):\n"
     ]
    },
    {
     "data": {
      "application/vnd.jupyter.widget-view+json": {
       "model_id": "7b590b26023f46dab9a88a8c0c56f7e4",
       "version_major": 2,
       "version_minor": 0
      },
      "text/plain": [
       "  0%|          | 0/3 [00:00<?, ?it/s]"
      ]
     },
     "metadata": {},
     "output_type": "display_data"
    },
    {
     "name": "stdout",
     "output_type": "stream",
     "text": [
      "left\n",
      "D:\\pix4d_Processing\\MACS_tools\\exiftool\\exiftool.exe -overwrite_original -Model=\"MACS_RGB_Left_33577\" D:\\pix4d_Processing\\ThawTrendAir_2019\\Image_Test_CODE\\01_rawdata\\tif\\33577_Left\n",
      "CPU times: total: 0 ns\n",
      "Wall time: 18.8 s\n",
      "right\n",
      "D:\\pix4d_Processing\\MACS_tools\\exiftool\\exiftool.exe -overwrite_original -Model=\"MACS_RGB_Right_33576\" D:\\pix4d_Processing\\ThawTrendAir_2019\\Image_Test_CODE\\01_rawdata\\tif\\33576_Right\n",
      "CPU times: total: 0 ns\n",
      "Wall time: 31.3 s\n",
      "nir\n",
      "D:\\pix4d_Processing\\MACS_tools\\exiftool\\exiftool.exe -overwrite_original -Model=\"MACS_NIR_33552\" D:\\pix4d_Processing\\ThawTrendAir_2019\\Image_Test_CODE\\01_rawdata\\tif\\33552_NIR\n",
      "CPU times: total: 0 ns\n",
      "Wall time: 13.5 s\n"
     ]
    }
   ],
   "source": [
    "for sensor in tqdm.tqdm_notebook(sensors):\n",
    "    print(sensor)\n",
    "    %time write_exif(OUTDIR[sensor], tag[sensor], EXIF_PATH)"
   ]
  },
  {
   "cell_type": "markdown",
   "metadata": {},
   "source": [
    "#### Nav"
   ]
  },
  {
   "cell_type": "code",
   "execution_count": 22,
   "metadata": {},
   "outputs": [],
   "source": [
    "navfile = list(Path(path_infiles).glob('*nav.txt'))[0]"
   ]
  },
  {
   "cell_type": "code",
   "execution_count": 23,
   "metadata": {},
   "outputs": [
    {
     "data": {
      "text/plain": [
       "WindowsPath('D:/pix4d_Processing/ThawTrendAir_2019/Image_Test_CODE/01_rawdata/tif/nav.txt')"
      ]
     },
     "execution_count": 23,
     "metadata": {},
     "output_type": "execute_result"
    }
   ],
   "source": [
    "shutil.copy(navfile, OUTDIR['nir'].parent / 'nav.txt')"
   ]
  },
  {
   "cell_type": "code",
   "execution_count": 24,
   "metadata": {},
   "outputs": [
    {
     "data": {
      "text/plain": [
       "0"
      ]
     },
     "execution_count": 24,
     "metadata": {},
     "output_type": "execute_result"
    }
   ],
   "source": [
    "os.chdir(OUTDIR['nir'].parent)\n",
    "os.system('python pix4dnav.py')"
   ]
  },
  {
   "cell_type": "code",
   "execution_count": null,
   "metadata": {},
   "outputs": [],
   "source": []
  },
  {
   "cell_type": "code",
   "execution_count": null,
   "metadata": {},
   "outputs": [],
   "source": []
  },
  {
   "cell_type": "code",
   "execution_count": null,
   "metadata": {},
   "outputs": [],
   "source": []
  },
  {
   "cell_type": "code",
   "execution_count": null,
   "metadata": {},
   "outputs": [],
   "source": []
  },
  {
   "cell_type": "markdown",
   "metadata": {},
   "source": [
    "### Run test to calculate and compare stats of every n-th image\n",
    "* reduce calculation\n",
    "* simplify"
   ]
  },
  {
   "cell_type": "markdown",
   "metadata": {},
   "source": [
    "#### Show statistics of subsets "
   ]
  },
  {
   "cell_type": "code",
   "execution_count": null,
   "metadata": {},
   "outputs": [],
   "source": [
    "print('Absolute Minimum')\n",
    "for df_tmp in [df_20, df_10, df_05, df_01]:\n",
    "    print (df_tmp['min'].min())\n",
    "print('Absolute Mean')\n",
    "for df_tmp in [df_20, df_10, df_05, df_01]:\n",
    "    print(df_tmp['mean'].mean())\n",
    "print('Absolute Max')\n",
    "for df_tmp in [df_20, df_10, df_05, df_01]:\n",
    "    print(df_tmp['max'].max())\n",
    "print('Mean Max')\n",
    "for df_tmp in [df_20, df_10, df_05, df_01]:\n",
    "    print(df_tmp['max'].mean())\n",
    "print('Minimum perc01')\n",
    "for df_tmp in [df_20, df_10, df_05, df_01]:\n",
    "    print(df_tmp['p01'].min())\n",
    "print('maximum perc99')\n",
    "for df_tmp in [df_20, df_10, df_05, df_01]:\n",
    "    print(df_tmp['p99'].max())"
   ]
  },
  {
   "cell_type": "code",
   "execution_count": null,
   "metadata": {},
   "outputs": [],
   "source": [
    "%time df_01 = get_image_stats_multi(OUTDIR, sensors, nth_images=1, quiet=True)"
   ]
  },
  {
   "cell_type": "code",
   "execution_count": null,
   "metadata": {},
   "outputs": [],
   "source": [
    "%time df_05 = get_image_stats_multi(OUTDIR, sensors, nth_images=5, quiet=True)"
   ]
  },
  {
   "cell_type": "code",
   "execution_count": null,
   "metadata": {},
   "outputs": [],
   "source": [
    "%time df_20 = get_image_stats_multi(OUTDIR, sensors, nth_images=20, quiet=True)"
   ]
  },
  {
   "cell_type": "code",
   "execution_count": null,
   "metadata": {},
   "outputs": [],
   "source": [
    "#RGB\n",
    "scale_upper = df_20.query('sensor in (\"left\", \"right\")')['max'].mean().round()\n",
    "scale_lower = df_20.query('sensor in (\"left\", \"right\")')['min'].mean().round()\n",
    "print(scale_lower, scale_upper)"
   ]
  },
  {
   "cell_type": "code",
   "execution_count": null,
   "metadata": {},
   "outputs": [],
   "source": [
    "#NIR\n",
    "scale_upper = df_20.query('sensor in (\"nir\")')['max'].mean().round()\n",
    "scale_lower = df_20.query('sensor in (\"nir\")')['min'].mean().round()\n",
    "print(scale_lower, scale_upper)"
   ]
  },
  {
   "cell_type": "code",
   "execution_count": null,
   "metadata": {},
   "outputs": [],
   "source": [
    "# SCALING functions\n",
    "def rescale(array, minimum, maximum, dtype=np.uint16, gain=1.):\n",
    "    x = [0, 2**16-1]\n",
    "    y = [minimum, maximum]\n",
    "    slope, intercept, r_value, p_value, std_err = linregress(y,x)\n",
    "    #print(slope,intercept)\n",
    "    D = (array * gain) *slope + intercept\n",
    "    D_round = np.around(np.clip(D, 1, 2**16-1))\n",
    "    return np.array(D_round, np.uint16)\n",
    "    \n",
    "def write_new_values(image, minimum, maximum, shutter_factor=1, tag=True):\n",
    "    with rasterio.open(image, mode='r+')as src:\n",
    "        data = src.read()\n",
    "        datanew = rescale(data, minimum, maximum, gain=shutter_factor)\n",
    "        src.write(datanew)\n",
    "        if tag:\n",
    "            src.update_tags(VALUE_STRETCH_MINIMUM=minimum, VALUE_STRETCH_MAXIMUM=maximum)"
   ]
  },
  {
   "cell_type": "code",
   "execution_count": null,
   "metadata": {},
   "outputs": [],
   "source": []
  }
 ],
 "metadata": {
  "kernelspec": {
   "display_name": "Python 3 (ipykernel)",
   "language": "python",
   "name": "python3"
  },
  "language_info": {
   "codemirror_mode": {
    "name": "ipython",
    "version": 3
   },
   "file_extension": ".py",
   "mimetype": "text/x-python",
   "name": "python",
   "nbconvert_exporter": "python",
   "pygments_lexer": "ipython3",
   "version": "3.8.0"
  }
 },
 "nbformat": 4,
 "nbformat_minor": 2
}
