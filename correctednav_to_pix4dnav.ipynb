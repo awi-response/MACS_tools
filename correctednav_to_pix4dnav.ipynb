{
 "cells": [
  {
   "cell_type": "markdown",
   "metadata": {},
   "source": [
    "### Script to convert geolocation into correct format"
   ]
  },
  {
   "cell_type": "code",
   "execution_count": 1,
   "metadata": {},
   "outputs": [],
   "source": [
    "import geopandas as gpd\n",
    "import pandas as pd\n",
    "import os"
   ]
  },
  {
   "cell_type": "code",
   "execution_count": 3,
   "metadata": {},
   "outputs": [],
   "source": [
    "%config Completer.use_jedi = False"
   ]
  },
  {
   "cell_type": "markdown",
   "metadata": {},
   "source": [
    "### Settings"
   ]
  },
  {
   "cell_type": "code",
   "execution_count": 4,
   "metadata": {},
   "outputs": [],
   "source": [
    "INFILE = 'nav.txt'\n",
    "outfile = 'geo_pix4d.txt'\n",
    "NEW_CRS = 'EPSG:4326'\n",
    "H_ACC = 1\n",
    "V_ACC = 1"
   ]
  },
  {
   "cell_type": "markdown",
   "metadata": {},
   "source": [
    "#### Load images "
   ]
  },
  {
   "cell_type": "code",
   "execution_count": 5,
   "metadata": {},
   "outputs": [],
   "source": [
    "df = pd.read_csv(INFILE, sep='\\t')"
   ]
  },
  {
   "cell_type": "markdown",
   "metadata": {},
   "source": [
    "#### Change image suffixes "
   ]
  },
  {
   "cell_type": "code",
   "execution_count": 6,
   "metadata": {},
   "outputs": [],
   "source": [
    "images = df['File '].str.replace('.macs', '.tif')"
   ]
  },
  {
   "cell_type": "code",
   "execution_count": 7,
   "metadata": {},
   "outputs": [],
   "source": [
    "images = images.apply(lambda x: x.strip().split('/')[-1])"
   ]
  },
  {
   "cell_type": "markdown",
   "metadata": {},
   "source": [
    "#### Load coordinates to geom an reproject to selected crs "
   ]
  },
  {
   "cell_type": "code",
   "execution_count": 8,
   "metadata": {},
   "outputs": [],
   "source": [
    "#gdf = gpd.GeoDataFrame(df, geometry=gpd.points_from_xy(df['latitude [decimal degrees]'], df['longitude [decimal degrees]']))"
   ]
  },
  {
   "cell_type": "code",
   "execution_count": 9,
   "metadata": {},
   "outputs": [],
   "source": [
    "series = gpd.GeoSeries(gpd.points_from_xy(df['Lon[deg] '], df['Lat[deg] ']), crs='EPSG:4326')\n",
    "series_new = series.to_crs(crs=NEW_CRS)"
   ]
  },
  {
   "cell_type": "markdown",
   "metadata": {},
   "source": [
    "#### Fill Table "
   ]
  },
  {
   "cell_type": "code",
   "execution_count": 10,
   "metadata": {},
   "outputs": [],
   "source": [
    "df['imagename_tif'] = images\n",
    "df['x'] = series_new.geometry.x\n",
    "df['y'] = series_new.geometry.y\n",
    "df['horizontal_accuracy'] = H_ACC\n",
    "df['vertical_accuracy'] = V_ACC"
   ]
  },
  {
   "cell_type": "markdown",
   "metadata": {},
   "source": [
    "#### Create final structure"
   ]
  },
  {
   "cell_type": "code",
   "execution_count": 11,
   "metadata": {},
   "outputs": [
    {
     "data": {
      "text/plain": [
       "Index(['File ', 'Date ', 'Time ', 'msOfDay ', 'Lat[deg] ', 'Lon[deg] ',\n",
       "       'Alt[m] ', 'Easting[m] ', 'Northing[m] ', 'Zone ', 'Roll[deg] ',\n",
       "       'Pitch[deg] ', 'Yaw[deg] ', 'Omega[deg] ', 'Phi[deg] ', 'Kappa[deg]',\n",
       "       'imagename_tif', 'x', 'y', 'horizontal_accuracy', 'vertical_accuracy'],\n",
       "      dtype='object')"
      ]
     },
     "execution_count": 11,
     "metadata": {},
     "output_type": "execute_result"
    }
   ],
   "source": [
    "df.columns"
   ]
  },
  {
   "cell_type": "code",
   "execution_count": 17,
   "metadata": {},
   "outputs": [],
   "source": [
    "df_new = df[['imagename_tif', 'y', 'x', 'Alt[m] ', 'Omega[deg] ',\n",
    "       'Phi[deg] ', 'Kappa[deg]', 'horizontal_accuracy', 'vertical_accuracy']]"
   ]
  },
  {
   "cell_type": "code",
   "execution_count": 18,
   "metadata": {},
   "outputs": [
    {
     "data": {
      "text/html": [
       "<div>\n",
       "<style scoped>\n",
       "    .dataframe tbody tr th:only-of-type {\n",
       "        vertical-align: middle;\n",
       "    }\n",
       "\n",
       "    .dataframe tbody tr th {\n",
       "        vertical-align: top;\n",
       "    }\n",
       "\n",
       "    .dataframe thead th {\n",
       "        text-align: right;\n",
       "    }\n",
       "</style>\n",
       "<table border=\"1\" class=\"dataframe\">\n",
       "  <thead>\n",
       "    <tr style=\"text-align: right;\">\n",
       "      <th></th>\n",
       "      <th>imagename_tif</th>\n",
       "      <th>y</th>\n",
       "      <th>x</th>\n",
       "      <th>Alt[m]</th>\n",
       "      <th>Omega[deg]</th>\n",
       "      <th>Phi[deg]</th>\n",
       "      <th>Kappa[deg]</th>\n",
       "      <th>horizontal_accuracy</th>\n",
       "      <th>vertical_accuracy</th>\n",
       "    </tr>\n",
       "  </thead>\n",
       "  <tbody>\n",
       "    <tr>\n",
       "      <th>0</th>\n",
       "      <td>02268_004759891_1500.tif</td>\n",
       "      <td>68.731418</td>\n",
       "      <td>-133.588401</td>\n",
       "      <td>910.671063</td>\n",
       "      <td>-8.481340</td>\n",
       "      <td>-3.562697</td>\n",
       "      <td>132.369845</td>\n",
       "      <td>1</td>\n",
       "      <td>1</td>\n",
       "    </tr>\n",
       "    <tr>\n",
       "      <th>1</th>\n",
       "      <td>04564_010707893_1500.tif</td>\n",
       "      <td>68.705597</td>\n",
       "      <td>-133.697328</td>\n",
       "      <td>905.961692</td>\n",
       "      <td>-9.043587</td>\n",
       "      <td>-4.231675</td>\n",
       "      <td>129.822436</td>\n",
       "      <td>1</td>\n",
       "      <td>1</td>\n",
       "    </tr>\n",
       "    <tr>\n",
       "      <th>2</th>\n",
       "      <td>02267_004759391_1500.tif</td>\n",
       "      <td>68.731594</td>\n",
       "      <td>-133.587787</td>\n",
       "      <td>910.485519</td>\n",
       "      <td>-8.593521</td>\n",
       "      <td>-3.610940</td>\n",
       "      <td>132.184241</td>\n",
       "      <td>1</td>\n",
       "      <td>1</td>\n",
       "    </tr>\n",
       "    <tr>\n",
       "      <th>3</th>\n",
       "      <td>02269_004800391_1500.tif</td>\n",
       "      <td>68.731241</td>\n",
       "      <td>-133.589014</td>\n",
       "      <td>910.896608</td>\n",
       "      <td>-8.363080</td>\n",
       "      <td>-3.505972</td>\n",
       "      <td>132.406828</td>\n",
       "      <td>1</td>\n",
       "      <td>1</td>\n",
       "    </tr>\n",
       "    <tr>\n",
       "      <th>4</th>\n",
       "      <td>02266_004758891_1500.tif</td>\n",
       "      <td>68.731771</td>\n",
       "      <td>-133.587171</td>\n",
       "      <td>910.406976</td>\n",
       "      <td>-8.541458</td>\n",
       "      <td>-3.776054</td>\n",
       "      <td>131.920429</td>\n",
       "      <td>1</td>\n",
       "      <td>1</td>\n",
       "    </tr>\n",
       "    <tr>\n",
       "      <th>...</th>\n",
       "      <td>...</td>\n",
       "      <td>...</td>\n",
       "      <td>...</td>\n",
       "      <td>...</td>\n",
       "      <td>...</td>\n",
       "      <td>...</td>\n",
       "      <td>...</td>\n",
       "      <td>...</td>\n",
       "      <td>...</td>\n",
       "    </tr>\n",
       "    <tr>\n",
       "      <th>46212</th>\n",
       "      <td>18957_030706517_1800.tif</td>\n",
       "      <td>68.717368</td>\n",
       "      <td>-133.781215</td>\n",
       "      <td>892.885933</td>\n",
       "      <td>-0.742938</td>\n",
       "      <td>2.181139</td>\n",
       "      <td>130.806678</td>\n",
       "      <td>1</td>\n",
       "      <td>1</td>\n",
       "    </tr>\n",
       "    <tr>\n",
       "      <th>46213</th>\n",
       "      <td>18963_030709517_1800.tif</td>\n",
       "      <td>68.716344</td>\n",
       "      <td>-133.785046</td>\n",
       "      <td>892.711348</td>\n",
       "      <td>0.044048</td>\n",
       "      <td>2.691989</td>\n",
       "      <td>131.272922</td>\n",
       "      <td>1</td>\n",
       "      <td>1</td>\n",
       "    </tr>\n",
       "    <tr>\n",
       "      <th>46214</th>\n",
       "      <td>18965_030710517_1800.tif</td>\n",
       "      <td>68.715997</td>\n",
       "      <td>-133.786309</td>\n",
       "      <td>892.465831</td>\n",
       "      <td>-0.094110</td>\n",
       "      <td>2.670298</td>\n",
       "      <td>131.764798</td>\n",
       "      <td>1</td>\n",
       "      <td>1</td>\n",
       "    </tr>\n",
       "    <tr>\n",
       "      <th>46215</th>\n",
       "      <td>18959_030707517_1800.tif</td>\n",
       "      <td>68.717029</td>\n",
       "      <td>-133.782499</td>\n",
       "      <td>892.916433</td>\n",
       "      <td>-0.238094</td>\n",
       "      <td>2.582737</td>\n",
       "      <td>130.788446</td>\n",
       "      <td>1</td>\n",
       "      <td>1</td>\n",
       "    </tr>\n",
       "    <tr>\n",
       "      <th>46216</th>\n",
       "      <td>21170_032533008_1800.tif</td>\n",
       "      <td>68.641886</td>\n",
       "      <td>-133.645925</td>\n",
       "      <td>898.105035</td>\n",
       "      <td>2.762719</td>\n",
       "      <td>2.001859</td>\n",
       "      <td>31.159335</td>\n",
       "      <td>1</td>\n",
       "      <td>1</td>\n",
       "    </tr>\n",
       "  </tbody>\n",
       "</table>\n",
       "<p>46217 rows × 9 columns</p>\n",
       "</div>"
      ],
      "text/plain": [
       "                  imagename_tif          y           x     Alt[m]   \\\n",
       "0      02268_004759891_1500.tif  68.731418 -133.588401  910.671063   \n",
       "1      04564_010707893_1500.tif  68.705597 -133.697328  905.961692   \n",
       "2      02267_004759391_1500.tif  68.731594 -133.587787  910.485519   \n",
       "3      02269_004800391_1500.tif  68.731241 -133.589014  910.896608   \n",
       "4      02266_004758891_1500.tif  68.731771 -133.587171  910.406976   \n",
       "...                         ...        ...         ...         ...   \n",
       "46212  18957_030706517_1800.tif  68.717368 -133.781215  892.885933   \n",
       "46213  18963_030709517_1800.tif  68.716344 -133.785046  892.711348   \n",
       "46214  18965_030710517_1800.tif  68.715997 -133.786309  892.465831   \n",
       "46215  18959_030707517_1800.tif  68.717029 -133.782499  892.916433   \n",
       "46216  21170_032533008_1800.tif  68.641886 -133.645925  898.105035   \n",
       "\n",
       "       Omega[deg]   Phi[deg]   Kappa[deg]  horizontal_accuracy  \\\n",
       "0        -8.481340  -3.562697  132.369845                    1   \n",
       "1        -9.043587  -4.231675  129.822436                    1   \n",
       "2        -8.593521  -3.610940  132.184241                    1   \n",
       "3        -8.363080  -3.505972  132.406828                    1   \n",
       "4        -8.541458  -3.776054  131.920429                    1   \n",
       "...            ...        ...         ...                  ...   \n",
       "46212    -0.742938   2.181139  130.806678                    1   \n",
       "46213     0.044048   2.691989  131.272922                    1   \n",
       "46214    -0.094110   2.670298  131.764798                    1   \n",
       "46215    -0.238094   2.582737  130.788446                    1   \n",
       "46216     2.762719   2.001859   31.159335                    1   \n",
       "\n",
       "       vertical_accuracy  \n",
       "0                      1  \n",
       "1                      1  \n",
       "2                      1  \n",
       "3                      1  \n",
       "4                      1  \n",
       "...                  ...  \n",
       "46212                  1  \n",
       "46213                  1  \n",
       "46214                  1  \n",
       "46215                  1  \n",
       "46216                  1  \n",
       "\n",
       "[46217 rows x 9 columns]"
      ]
     },
     "execution_count": 18,
     "metadata": {},
     "output_type": "execute_result"
    }
   ],
   "source": [
    "df_new"
   ]
  },
  {
   "cell_type": "markdown",
   "metadata": {},
   "source": [
    "#### Export file "
   ]
  },
  {
   "cell_type": "code",
   "execution_count": 19,
   "metadata": {},
   "outputs": [],
   "source": [
    "df_new.to_csv(outfile, sep='\\t', header=True, index=False)"
   ]
  },
  {
   "cell_type": "code",
   "execution_count": null,
   "metadata": {},
   "outputs": [],
   "source": []
  }
 ],
 "metadata": {
  "kernelspec": {
   "display_name": "Python [conda env:gee]",
   "language": "python",
   "name": "conda-env-gee-py"
  },
  "language_info": {
   "codemirror_mode": {
    "name": "ipython",
    "version": 3
   },
   "file_extension": ".py",
   "mimetype": "text/x-python",
   "name": "python",
   "nbconvert_exporter": "python",
   "pygments_lexer": "ipython3",
   "version": "3.7.6"
  }
 },
 "nbformat": 4,
 "nbformat_minor": 2
}
