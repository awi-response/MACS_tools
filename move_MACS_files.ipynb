{
 "cells": [
  {
   "cell_type": "markdown",
   "metadata": {},
   "source": [
    "## Script to move raw MACS files based on extracted footprints files \n",
    "**author:** Ingmar Nitze\n",
    "\n",
    "**contact:** ingmar.nitze@awi.de\n",
    "\n",
    "**version date:** 2021-01-04\n"
   ]
  },
  {
   "cell_type": "markdown",
   "metadata": {},
   "source": [
    "### Imports "
   ]
  },
  {
   "cell_type": "code",
   "execution_count": 1,
   "metadata": {},
   "outputs": [],
   "source": [
    "import geopandas as gpd\n",
    "import shutil\n",
    "import os\n",
    "import glob\n",
    "import pandas as pd\n",
    "from IPython.display import clear_output"
   ]
  },
  {
   "cell_type": "markdown",
   "metadata": {},
   "source": [
    "### Functions "
   ]
  },
  {
   "cell_type": "code",
   "execution_count": 2,
   "metadata": {},
   "outputs": [],
   "source": [
    "def prepare_df(path_footprints, path_infiles):\n",
    "    # Load filtered footprints files\n",
    "    df = gpd.read_file(path_footprints)\n",
    "    \n",
    "    # Create file list of source files \n",
    "    os.chdir(path_infiles)\n",
    "    \n",
    "    flist = glob.glob('*/*.macs')\n",
    "    \n",
    "    df_full = pd.DataFrame()\n",
    "    df_full['full_path'] = flist\n",
    "    df_full[['dir', 'basename']] = pd.DataFrame(df_full['full_path'].str.split('\\\\').to_list())\n",
    "    \n",
    "    # return Inner join of lists - create filtered list of filepaths \n",
    "    return df.set_index('Basename').join(df_full.set_index('basename'))"
   ]
  },
  {
   "cell_type": "markdown",
   "metadata": {},
   "source": [
    "### Settings \n",
    "* prefer full/absolute paths"
   ]
  },
  {
   "cell_type": "code",
   "execution_count": 3,
   "metadata": {},
   "outputs": [],
   "source": [
    "# Path of filtered footprints file (.shp file)\n",
    "path_footprints = r'D:\\00_orga\\12_MACS_processing\\01_anaktuvuk_chuck\\02_studysites\\footprints.shp'\n",
    "\n",
    "# Parent path of MACS raw images (e.g. r'N:\\response\\Restricted_Airborne\\MACs\\Alaska\\ThawTrend-Air_2019\\raw_data\\20190731-222846_18L_Ikpikpuk_flight_plan_v2')\n",
    "path_infiles = r'N:\\response\\Restricted_Airborne\\MACs\\Alaska\\ThawTrend-Air_2019\\raw_data\\20190723-011256_3S_Anaktuvuk_Fire_Scar_flight_plan_1650ft'\n",
    "\n",
    "# Path to copy files to (<Project_Dir\\01_rawdata\\macs>)\n",
    "# Subdirectories will be created automatically\n",
    "path_outfiles = r'D:\\00_orga\\12_MACS_processing\\01_anaktuvuk_chuck\\01_rawdata'"
   ]
  },
  {
   "cell_type": "markdown",
   "metadata": {},
   "source": [
    "### Load filenames "
   ]
  },
  {
   "cell_type": "markdown",
   "metadata": {},
   "source": [
    "#### Load filtered footprints file "
   ]
  },
  {
   "cell_type": "code",
   "execution_count": 4,
   "metadata": {},
   "outputs": [],
   "source": [
    "df_final = prepare_df(path_footprints, path_infiles)"
   ]
  },
  {
   "cell_type": "code",
   "execution_count": 5,
   "metadata": {},
   "outputs": [
    {
     "name": "stdout",
     "output_type": "stream",
     "text": [
      "Number of images: 5571\n"
     ]
    }
   ],
   "source": [
    "print(\"Number of images:\", len(df_final))"
   ]
  },
  {
   "cell_type": "markdown",
   "metadata": {},
   "source": [
    "### Move files"
   ]
  },
  {
   "cell_type": "code",
   "execution_count": 6,
   "metadata": {},
   "outputs": [
    {
     "name": "stdout",
     "output_type": "stream",
     "text": [
      "File: 33552_Cam-NIR-50\\15372_030150138_750.macs\n",
      "5571 of 5571\n",
      "D:\\00_orga\\12_MACS_processing\\01_anaktuvuk_chuck\\01_rawdata\\33552_Cam-NIR-50\\15372_030150138_750.macs\n"
     ]
    }
   ],
   "source": [
    "count = len(df_final)\n",
    "count_cur = 1\n",
    "for f in df_final['full_path'].values[:]:\n",
    "    outpath = os.path.join(path_outfiles, f)\n",
    "    os.makedirs(os.path.dirname(outpath), exist_ok=True)\n",
    "    clear_output(wait=True)\n",
    "    print(\"File:\", f)\n",
    "    print(f\"{count_cur} of {count}\")\n",
    "    print(outpath)\n",
    "    if os.path.isfile(outpath):\n",
    "        pass\n",
    "    else:\n",
    "        shutil.copy(f, outpath)\n",
    "    count_cur += 1"
   ]
  }
 ],
 "metadata": {
  "kernelspec": {
   "display_name": "Python 3",
   "language": "python",
   "name": "python3"
  },
  "language_info": {
   "codemirror_mode": {
    "name": "ipython",
    "version": 3
   },
   "file_extension": ".py",
   "mimetype": "text/x-python",
   "name": "python",
   "nbconvert_exporter": "python",
   "pygments_lexer": "ipython3",
   "version": "3.7.10"
  }
 },
 "nbformat": 4,
 "nbformat_minor": 2
}
